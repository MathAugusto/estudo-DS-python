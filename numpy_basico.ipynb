{
  "nbformat": 4,
  "nbformat_minor": 0,
  "metadata": {
    "colab": {
      "name": "numpy-basico.ipynb",
      "provenance": [],
      "toc_visible": true,
      "authorship_tag": "ABX9TyNptY/GMepSeF0fs5fs+MSE"
    },
    "kernelspec": {
      "name": "python3",
      "display_name": "Python 3"
    }
  },
  "cells": [
    {
      "cell_type": "markdown",
      "metadata": {
        "id": "1FxH9-R46-Ly"
      },
      "source": [
        "**Exercícios inspirados no módulo de Numpy, do Bootcamp em Data Science e Machine Learning da Udemy**"
      ]
    },
    {
      "cell_type": "code",
      "metadata": {
        "id": "wat_aPMQ6vzl"
      },
      "source": [
        "import numpy as np"
      ],
      "execution_count": 2,
      "outputs": []
    },
    {
      "cell_type": "code",
      "metadata": {
        "colab": {
          "base_uri": "https://localhost:8080/"
        },
        "id": "9C38OncA8qLn",
        "outputId": "2b8860eb-62e7-4daa-aeeb-82bde05cd72c"
      },
      "source": [
        "#retornar números aleatórios entre 0 e 1\n",
        "np.random.rand(2)"
      ],
      "execution_count": 17,
      "outputs": [
        {
          "output_type": "execute_result",
          "data": {
            "text/plain": [
              "array([0.73623062, 0.02645975])"
            ]
          },
          "metadata": {
            "tags": []
          },
          "execution_count": 17
        }
      ]
    },
    {
      "cell_type": "code",
      "metadata": {
        "colab": {
          "base_uri": "https://localhost:8080/"
        },
        "id": "Sy1LUQ7G7He_",
        "outputId": "7c1d06d2-c7de-4300-b501-10e3192c04fb"
      },
      "source": [
        "#array de 0's\n",
        "np.zeros(10)"
      ],
      "execution_count": 7,
      "outputs": [
        {
          "output_type": "execute_result",
          "data": {
            "text/plain": [
              "array([0., 0., 0., 0., 0., 0., 0., 0., 0., 0.])"
            ]
          },
          "metadata": {
            "tags": []
          },
          "execution_count": 7
        }
      ]
    },
    {
      "cell_type": "code",
      "metadata": {
        "colab": {
          "base_uri": "https://localhost:8080/"
        },
        "id": "ZsnRLvRG7Skv",
        "outputId": "06998567-676f-4354-87d5-a16c62da5530"
      },
      "source": [
        "#array de 1's\n",
        "np.ones(10)"
      ],
      "execution_count": 6,
      "outputs": [
        {
          "output_type": "execute_result",
          "data": {
            "text/plain": [
              "array([1., 1., 1., 1., 1., 1., 1., 1., 1., 1.])"
            ]
          },
          "metadata": {
            "tags": []
          },
          "execution_count": 6
        }
      ]
    },
    {
      "cell_type": "code",
      "metadata": {
        "colab": {
          "base_uri": "https://localhost:8080/"
        },
        "id": "-0LRha8R7eJy",
        "outputId": "cd4d93b4-5ec9-4a77-e499-d7ae30c5b6c3"
      },
      "source": [
        "#aplicando operações matematicas em np.arrays\n",
        "np.ones(10) * 4"
      ],
      "execution_count": 8,
      "outputs": [
        {
          "output_type": "execute_result",
          "data": {
            "text/plain": [
              "array([4., 4., 4., 4., 4., 4., 4., 4., 4., 4.])"
            ]
          },
          "metadata": {
            "tags": []
          },
          "execution_count": 8
        }
      ]
    },
    {
      "cell_type": "code",
      "metadata": {
        "colab": {
          "base_uri": "https://localhost:8080/"
        },
        "id": "VXcki9Te7yM6",
        "outputId": "64c142ab-1683-49d7-ccf1-0cca950a88ef"
      },
      "source": [
        "#array de inteiros, parametros da função arange(inicio, fim, intervalo)\n",
        "np.arange(10, 100, 4)"
      ],
      "execution_count": 9,
      "outputs": [
        {
          "output_type": "execute_result",
          "data": {
            "text/plain": [
              "array([10, 14, 18, 22, 26, 30, 34, 38, 42, 46, 50, 54, 58, 62, 66, 70, 74,\n",
              "       78, 82, 86, 90, 94, 98])"
            ]
          },
          "metadata": {
            "tags": []
          },
          "execution_count": 9
        }
      ]
    },
    {
      "cell_type": "code",
      "metadata": {
        "colab": {
          "base_uri": "https://localhost:8080/"
        },
        "id": "Ws-ENYxi8C8Z",
        "outputId": "da9c6404-6c62-4771-98e9-3babd08025e1"
      },
      "source": [
        "#transformando array em matrix\n",
        "np.arange(9).reshape(3,3)"
      ],
      "execution_count": 10,
      "outputs": [
        {
          "output_type": "execute_result",
          "data": {
            "text/plain": [
              "array([[0, 1, 2],\n",
              "       [3, 4, 5],\n",
              "       [6, 7, 8]])"
            ]
          },
          "metadata": {
            "tags": []
          },
          "execution_count": 10
        }
      ]
    },
    {
      "cell_type": "code",
      "metadata": {
        "colab": {
          "base_uri": "https://localhost:8080/"
        },
        "id": "FlHvdRfs8bFs",
        "outputId": "5149385d-e507-46a5-9897-2ac62044e1f7"
      },
      "source": [
        "#matriz identidade\n",
        "np.eye(4)"
      ],
      "execution_count": 11,
      "outputs": [
        {
          "output_type": "execute_result",
          "data": {
            "text/plain": [
              "array([[1., 0., 0., 0.],\n",
              "       [0., 1., 0., 0.],\n",
              "       [0., 0., 1., 0.],\n",
              "       [0., 0., 0., 1.]])"
            ]
          },
          "metadata": {
            "tags": []
          },
          "execution_count": 11
        }
      ]
    },
    {
      "cell_type": "code",
      "metadata": {
        "colab": {
          "base_uri": "https://localhost:8080/"
        },
        "id": "TnFnBOav8jdQ",
        "outputId": "fde82675-3fe7-497b-e4d2-c019d0217bb8"
      },
      "source": [
        "#mais operações com arrays\n",
        "c = np.arange(9).reshape(3,3)\n",
        "c"
      ],
      "execution_count": 19,
      "outputs": [
        {
          "output_type": "execute_result",
          "data": {
            "text/plain": [
              "array([[0, 1, 2],\n",
              "       [3, 4, 5],\n",
              "       [6, 7, 8]])"
            ]
          },
          "metadata": {
            "tags": []
          },
          "execution_count": 19
        }
      ]
    },
    {
      "cell_type": "code",
      "metadata": {
        "colab": {
          "base_uri": "https://localhost:8080/"
        },
        "id": "X7O7Cuh8-XC7",
        "outputId": "2f2eae03-ba4a-483c-de49-74b9c8891a66"
      },
      "source": [
        "#somando os valores\n",
        "c.sum()"
      ],
      "execution_count": 20,
      "outputs": [
        {
          "output_type": "execute_result",
          "data": {
            "text/plain": [
              "36"
            ]
          },
          "metadata": {
            "tags": []
          },
          "execution_count": 20
        }
      ]
    },
    {
      "cell_type": "code",
      "metadata": {
        "colab": {
          "base_uri": "https://localhost:8080/"
        },
        "id": "MW0zz5Dh-sWI",
        "outputId": "b239292e-3e21-40fe-b525-4db375bf3d85"
      },
      "source": [
        "#somando as linhas\n",
        "c.sum(axis=1)"
      ],
      "execution_count": 24,
      "outputs": [
        {
          "output_type": "execute_result",
          "data": {
            "text/plain": [
              "array([ 3, 12, 21])"
            ]
          },
          "metadata": {
            "tags": []
          },
          "execution_count": 24
        }
      ]
    },
    {
      "cell_type": "code",
      "metadata": {
        "colab": {
          "base_uri": "https://localhost:8080/"
        },
        "id": "bdaGINRS-sgB",
        "outputId": "1f479914-5a97-4dd6-cd53-6f530594aa20"
      },
      "source": [
        "#somando colunas\n",
        "c.sum(axis=0)"
      ],
      "execution_count": 23,
      "outputs": [
        {
          "output_type": "execute_result",
          "data": {
            "text/plain": [
              "array([ 9, 12, 15])"
            ]
          },
          "metadata": {
            "tags": []
          },
          "execution_count": 23
        }
      ]
    },
    {
      "cell_type": "code",
      "metadata": {
        "colab": {
          "base_uri": "https://localhost:8080/"
        },
        "id": "WQQXZMdF8n4R",
        "outputId": "41174d89-df9a-4ff5-c412-d63f51d219d3"
      },
      "source": [
        "#calculando desvio padrão \n",
        "c.std()"
      ],
      "execution_count": 21,
      "outputs": [
        {
          "output_type": "execute_result",
          "data": {
            "text/plain": [
              "2.581988897471611"
            ]
          },
          "metadata": {
            "tags": []
          },
          "execution_count": 21
        }
      ]
    }
  ]
}