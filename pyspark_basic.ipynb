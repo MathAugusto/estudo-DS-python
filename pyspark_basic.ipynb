{
  "nbformat": 4,
  "nbformat_minor": 0,
  "metadata": {
    "colab": {
      "name": "pyspark-basic.ipynb",
      "provenance": [],
      "collapsed_sections": [],
      "authorship_tag": "ABX9TyPDjYWU9XHWb9BFoIWx1ZZa"
    },
    "kernelspec": {
      "name": "python3",
      "display_name": "Python 3"
    }
  },
  "cells": [
    {
      "cell_type": "markdown",
      "metadata": {
        "id": "Aam9hziTmcKg"
      },
      "source": [
        "# SPARK DATAFRAMES"
      ]
    },
    {
      "cell_type": "code",
      "metadata": {
        "id": "mKceLjLNmYuJ"
      },
      "source": [
        "from pyspark.sql import SparkSession"
      ],
      "execution_count": 2,
      "outputs": []
    },
    {
      "cell_type": "code",
      "metadata": {
        "id": "TaFcBJSgmbpH"
      },
      "source": [
        "spark = SparkSession.builder.appName('Basics').getOrCreate()"
      ],
      "execution_count": 3,
      "outputs": []
    },
    {
      "cell_type": "code",
      "metadata": {
        "id": "5spUGIummbrf"
      },
      "source": [
        "df = spark.read.json('people.json')"
      ],
      "execution_count": 4,
      "outputs": []
    },
    {
      "cell_type": "code",
      "metadata": {
        "id": "rFYIk4XYmbuK",
        "colab": {
          "base_uri": "https://localhost:8080/"
        },
        "outputId": "732c17e2-6eb6-47cf-9723-0f9a9723ab71"
      },
      "source": [
        "df.show()"
      ],
      "execution_count": 5,
      "outputs": [
        {
          "output_type": "stream",
          "text": [
            "+----+-------+\n",
            "| age|   name|\n",
            "+----+-------+\n",
            "|null|Michael|\n",
            "|  30|   Andy|\n",
            "|  19| Justin|\n",
            "+----+-------+\n",
            "\n"
          ],
          "name": "stdout"
        }
      ]
    },
    {
      "cell_type": "code",
      "metadata": {
        "id": "ZjlhdBTgmbwR",
        "colab": {
          "base_uri": "https://localhost:8080/"
        },
        "outputId": "14ec12e6-bd96-4597-8171-cfffbf68265c"
      },
      "source": [
        "df.printSchema()"
      ],
      "execution_count": 6,
      "outputs": [
        {
          "output_type": "stream",
          "text": [
            "root\n",
            " |-- age: long (nullable = true)\n",
            " |-- name: string (nullable = true)\n",
            "\n"
          ],
          "name": "stdout"
        }
      ]
    },
    {
      "cell_type": "code",
      "metadata": {
        "id": "3298DhVqmbx9",
        "colab": {
          "base_uri": "https://localhost:8080/"
        },
        "outputId": "8ed0726d-9910-47b3-b8b1-819083139f8c"
      },
      "source": [
        "df.columns"
      ],
      "execution_count": 7,
      "outputs": [
        {
          "output_type": "execute_result",
          "data": {
            "text/plain": [
              "['age', 'name']"
            ]
          },
          "metadata": {
            "tags": []
          },
          "execution_count": 7
        }
      ]
    },
    {
      "cell_type": "code",
      "metadata": {
        "colab": {
          "base_uri": "https://localhost:8080/"
        },
        "id": "clESr7DpZKn1",
        "outputId": "fd2e1679-57c8-4815-de47-12c5e524e710"
      },
      "source": [
        "df.describe().show()"
      ],
      "execution_count": 8,
      "outputs": [
        {
          "output_type": "stream",
          "text": [
            "+-------+------------------+-------+\n",
            "|summary|               age|   name|\n",
            "+-------+------------------+-------+\n",
            "|  count|                 2|      3|\n",
            "|   mean|              24.5|   null|\n",
            "| stddev|7.7781745930520225|   null|\n",
            "|    min|                19|   Andy|\n",
            "|    max|                30|Michael|\n",
            "+-------+------------------+-------+\n",
            "\n"
          ],
          "name": "stdout"
        }
      ]
    },
    {
      "cell_type": "code",
      "metadata": {
        "id": "UYRfdB2pZ-tY"
      },
      "source": [
        "# Definindo schemas para os dados\n",
        "from pyspark.sql.types import (StructField, StringType,\n",
        "                               IntegerType, StructType)"
      ],
      "execution_count": 9,
      "outputs": []
    },
    {
      "cell_type": "code",
      "metadata": {
        "id": "1aejWppyaTgY"
      },
      "source": [
        "data_schema = [StructField('age', IntegerType(), True),\n",
        "               StructField('name', StringType(), True)]"
      ],
      "execution_count": 10,
      "outputs": []
    },
    {
      "cell_type": "code",
      "metadata": {
        "id": "TIHaEgvraTjh"
      },
      "source": [
        "final_struc = StructType(fields = data_schema)"
      ],
      "execution_count": 11,
      "outputs": []
    },
    {
      "cell_type": "code",
      "metadata": {
        "id": "5x0eocDgaTn7"
      },
      "source": [
        "df = spark.read.json('people.json', schema=final_struc)"
      ],
      "execution_count": 12,
      "outputs": []
    },
    {
      "cell_type": "code",
      "metadata": {
        "colab": {
          "base_uri": "https://localhost:8080/"
        },
        "id": "q4YEi-CfZKp6",
        "outputId": "132b50ba-e03f-4088-c458-d63aad1e4589"
      },
      "source": [
        "df.printSchema()"
      ],
      "execution_count": 13,
      "outputs": [
        {
          "output_type": "stream",
          "text": [
            "root\n",
            " |-- age: integer (nullable = true)\n",
            " |-- name: string (nullable = true)\n",
            "\n"
          ],
          "name": "stdout"
        }
      ]
    },
    {
      "cell_type": "code",
      "metadata": {
        "colab": {
          "base_uri": "https://localhost:8080/"
        },
        "id": "iDm8CKp4ZKsL",
        "outputId": "e7a2f561-3459-4dac-8ded-2632982ff22c"
      },
      "source": [
        "type(df['age'])"
      ],
      "execution_count": 14,
      "outputs": [
        {
          "output_type": "execute_result",
          "data": {
            "text/plain": [
              "pyspark.sql.column.Column"
            ]
          },
          "metadata": {
            "tags": []
          },
          "execution_count": 14
        }
      ]
    },
    {
      "cell_type": "code",
      "metadata": {
        "colab": {
          "base_uri": "https://localhost:8080/"
        },
        "id": "owa7Jh9ucYCy",
        "outputId": "09d730a3-4abd-4e03-956f-181c7a5d6e06"
      },
      "source": [
        "type(df.select('age'))"
      ],
      "execution_count": 15,
      "outputs": [
        {
          "output_type": "execute_result",
          "data": {
            "text/plain": [
              "pyspark.sql.dataframe.DataFrame"
            ]
          },
          "metadata": {
            "tags": []
          },
          "execution_count": 15
        }
      ]
    },
    {
      "cell_type": "code",
      "metadata": {
        "colab": {
          "base_uri": "https://localhost:8080/"
        },
        "id": "zb8vrUYHcHxQ",
        "outputId": "89714b68-b090-46ff-f69e-e481f10c1573"
      },
      "source": [
        "df.select('age').show()"
      ],
      "execution_count": 16,
      "outputs": [
        {
          "output_type": "stream",
          "text": [
            "+----+\n",
            "| age|\n",
            "+----+\n",
            "|null|\n",
            "|  30|\n",
            "|  19|\n",
            "+----+\n",
            "\n"
          ],
          "name": "stdout"
        }
      ]
    },
    {
      "cell_type": "code",
      "metadata": {
        "colab": {
          "base_uri": "https://localhost:8080/"
        },
        "id": "9eU02ow6cOf9",
        "outputId": "99f38f73-25fd-4d9b-c8d9-cd3072471d68"
      },
      "source": [
        "df.head(2)[0]"
      ],
      "execution_count": 17,
      "outputs": [
        {
          "output_type": "execute_result",
          "data": {
            "text/plain": [
              "Row(age=None, name='Michael')"
            ]
          },
          "metadata": {
            "tags": []
          },
          "execution_count": 17
        }
      ]
    },
    {
      "cell_type": "code",
      "metadata": {
        "colab": {
          "base_uri": "https://localhost:8080/"
        },
        "id": "GoiCsB6Occ7u",
        "outputId": "66c6d579-cc0f-44b9-bb2b-eff67170574b"
      },
      "source": [
        "type(df.head(2)[0])"
      ],
      "execution_count": 18,
      "outputs": [
        {
          "output_type": "execute_result",
          "data": {
            "text/plain": [
              "pyspark.sql.types.Row"
            ]
          },
          "metadata": {
            "tags": []
          },
          "execution_count": 18
        }
      ]
    },
    {
      "cell_type": "code",
      "metadata": {
        "colab": {
          "base_uri": "https://localhost:8080/"
        },
        "id": "pN9UtpMAcc_J",
        "outputId": "3f0d66dd-8498-40f6-8005-3facc834ccd0"
      },
      "source": [
        "df.select(['age', 'name']).show()"
      ],
      "execution_count": 19,
      "outputs": [
        {
          "output_type": "stream",
          "text": [
            "+----+-------+\n",
            "| age|   name|\n",
            "+----+-------+\n",
            "|null|Michael|\n",
            "|  30|   Andy|\n",
            "|  19| Justin|\n",
            "+----+-------+\n",
            "\n"
          ],
          "name": "stdout"
        }
      ]
    },
    {
      "cell_type": "code",
      "metadata": {
        "colab": {
          "base_uri": "https://localhost:8080/"
        },
        "id": "Q90w6nvKcdC9",
        "outputId": "b27fa489-4774-456e-8eff-b37c21fff5f3"
      },
      "source": [
        "# NAO ALTERA O DATAFRAME\n",
        "# nova coluna\n",
        "df.withColumn('doubleage', df['age']*2).show()"
      ],
      "execution_count": 20,
      "outputs": [
        {
          "output_type": "stream",
          "text": [
            "+----+-------+---------+\n",
            "| age|   name|doubleage|\n",
            "+----+-------+---------+\n",
            "|null|Michael|     null|\n",
            "|  30|   Andy|       60|\n",
            "|  19| Justin|       38|\n",
            "+----+-------+---------+\n",
            "\n"
          ],
          "name": "stdout"
        }
      ]
    },
    {
      "cell_type": "code",
      "metadata": {
        "colab": {
          "base_uri": "https://localhost:8080/"
        },
        "id": "WLQrhD2EdHSD",
        "outputId": "ce9153df-113c-4998-d80c-1b789c576555"
      },
      "source": [
        "# Renomear coluna exitente\n",
        "df.withColumnRenamed('age', 'my_new_age').show()"
      ],
      "execution_count": 21,
      "outputs": [
        {
          "output_type": "stream",
          "text": [
            "+----------+-------+\n",
            "|my_new_age|   name|\n",
            "+----------+-------+\n",
            "|      null|Michael|\n",
            "|        30|   Andy|\n",
            "|        19| Justin|\n",
            "+----------+-------+\n",
            "\n"
          ],
          "name": "stdout"
        }
      ]
    },
    {
      "cell_type": "code",
      "metadata": {
        "id": "k0sYI-0WdJ38"
      },
      "source": [
        "# USANDO SQL COM PYSPARK\n",
        "df.createOrReplaceTempView('people')"
      ],
      "execution_count": 22,
      "outputs": []
    },
    {
      "cell_type": "code",
      "metadata": {
        "id": "7sO_o_ledjfg"
      },
      "source": [
        "results = spark.sql('SELECT * FROM people')"
      ],
      "execution_count": 23,
      "outputs": []
    },
    {
      "cell_type": "code",
      "metadata": {
        "colab": {
          "base_uri": "https://localhost:8080/"
        },
        "id": "Fb5MrBR1dbNA",
        "outputId": "b937b70b-847c-4637-8bbf-acd556870143"
      },
      "source": [
        "results.show()"
      ],
      "execution_count": 24,
      "outputs": [
        {
          "output_type": "stream",
          "text": [
            "+----+-------+\n",
            "| age|   name|\n",
            "+----+-------+\n",
            "|null|Michael|\n",
            "|  30|   Andy|\n",
            "|  19| Justin|\n",
            "+----+-------+\n",
            "\n"
          ],
          "name": "stdout"
        }
      ]
    },
    {
      "cell_type": "code",
      "metadata": {
        "id": "qDDmX2y4dbQD"
      },
      "source": [
        "new_results = spark.sql('SELECT * FROM people WHERE age=30')"
      ],
      "execution_count": 25,
      "outputs": []
    },
    {
      "cell_type": "code",
      "metadata": {
        "colab": {
          "base_uri": "https://localhost:8080/"
        },
        "id": "SpUWmV4GdbTH",
        "outputId": "4c3e157f-2c8d-4851-b93d-84b3f5aaf3f3"
      },
      "source": [
        "new_results.show()"
      ],
      "execution_count": 26,
      "outputs": [
        {
          "output_type": "stream",
          "text": [
            "+---+----+\n",
            "|age|name|\n",
            "+---+----+\n",
            "| 30|Andy|\n",
            "+---+----+\n",
            "\n"
          ],
          "name": "stdout"
        }
      ]
    }
  ]
}