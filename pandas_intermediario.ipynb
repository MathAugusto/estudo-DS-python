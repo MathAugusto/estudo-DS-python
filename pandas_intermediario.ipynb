{
  "nbformat": 4,
  "nbformat_minor": 0,
  "metadata": {
    "colab": {
      "name": "pandas_intermediario.ipynb",
      "provenance": [],
      "authorship_tag": "ABX9TyM/6b4EI7C3XTgARTDC3Dui"
    },
    "kernelspec": {
      "name": "python3",
      "display_name": "Python 3"
    }
  },
  "cells": [
    {
      "cell_type": "markdown",
      "metadata": {
        "id": "xb2l4frkBm_k"
      },
      "source": [
        "**Exercício Prático usando a biblioteca Pandas, o dataset utilizado pode ser encontrado no Link: https://www.kaggle.com/kaggle/sf-salaries**\n"
      ]
    },
    {
      "cell_type": "code",
      "metadata": {
        "id": "kGdppbjsBmOW"
      },
      "source": [
        "import pandas as pd"
      ],
      "execution_count": 1,
      "outputs": []
    },
    {
      "cell_type": "code",
      "metadata": {
        "id": "08dpVMXhB7QU"
      },
      "source": [
        "data = pd.read_csv(\"Salaries.csv\")"
      ],
      "execution_count": 2,
      "outputs": []
    },
    {
      "cell_type": "code",
      "metadata": {
        "colab": {
          "base_uri": "https://localhost:8080/",
          "height": 310
        },
        "id": "anGYUMFOB-jJ",
        "outputId": "bc0a891f-61f0-4148-baaa-2cba97cab41d"
      },
      "source": [
        "data.head()"
      ],
      "execution_count": 3,
      "outputs": [
        {
          "output_type": "execute_result",
          "data": {
            "text/html": [
              "<div>\n",
              "<style scoped>\n",
              "    .dataframe tbody tr th:only-of-type {\n",
              "        vertical-align: middle;\n",
              "    }\n",
              "\n",
              "    .dataframe tbody tr th {\n",
              "        vertical-align: top;\n",
              "    }\n",
              "\n",
              "    .dataframe thead th {\n",
              "        text-align: right;\n",
              "    }\n",
              "</style>\n",
              "<table border=\"1\" class=\"dataframe\">\n",
              "  <thead>\n",
              "    <tr style=\"text-align: right;\">\n",
              "      <th></th>\n",
              "      <th>Id</th>\n",
              "      <th>EmployeeName</th>\n",
              "      <th>JobTitle</th>\n",
              "      <th>BasePay</th>\n",
              "      <th>OvertimePay</th>\n",
              "      <th>OtherPay</th>\n",
              "      <th>Benefits</th>\n",
              "      <th>TotalPay</th>\n",
              "      <th>TotalPayBenefits</th>\n",
              "      <th>Year</th>\n",
              "      <th>Notes</th>\n",
              "      <th>Agency</th>\n",
              "      <th>Status</th>\n",
              "    </tr>\n",
              "  </thead>\n",
              "  <tbody>\n",
              "    <tr>\n",
              "      <th>0</th>\n",
              "      <td>1</td>\n",
              "      <td>NATHANIEL FORD</td>\n",
              "      <td>GENERAL MANAGER-METROPOLITAN TRANSIT AUTHORITY</td>\n",
              "      <td>167411.18</td>\n",
              "      <td>0.00</td>\n",
              "      <td>400184.25</td>\n",
              "      <td>NaN</td>\n",
              "      <td>567595.43</td>\n",
              "      <td>567595.43</td>\n",
              "      <td>2011</td>\n",
              "      <td>NaN</td>\n",
              "      <td>San Francisco</td>\n",
              "      <td>NaN</td>\n",
              "    </tr>\n",
              "    <tr>\n",
              "      <th>1</th>\n",
              "      <td>2</td>\n",
              "      <td>GARY JIMENEZ</td>\n",
              "      <td>CAPTAIN III (POLICE DEPARTMENT)</td>\n",
              "      <td>155966.02</td>\n",
              "      <td>245131.88</td>\n",
              "      <td>137811.38</td>\n",
              "      <td>NaN</td>\n",
              "      <td>538909.28</td>\n",
              "      <td>538909.28</td>\n",
              "      <td>2011</td>\n",
              "      <td>NaN</td>\n",
              "      <td>San Francisco</td>\n",
              "      <td>NaN</td>\n",
              "    </tr>\n",
              "    <tr>\n",
              "      <th>2</th>\n",
              "      <td>3</td>\n",
              "      <td>ALBERT PARDINI</td>\n",
              "      <td>CAPTAIN III (POLICE DEPARTMENT)</td>\n",
              "      <td>212739.13</td>\n",
              "      <td>106088.18</td>\n",
              "      <td>16452.60</td>\n",
              "      <td>NaN</td>\n",
              "      <td>335279.91</td>\n",
              "      <td>335279.91</td>\n",
              "      <td>2011</td>\n",
              "      <td>NaN</td>\n",
              "      <td>San Francisco</td>\n",
              "      <td>NaN</td>\n",
              "    </tr>\n",
              "    <tr>\n",
              "      <th>3</th>\n",
              "      <td>4</td>\n",
              "      <td>CHRISTOPHER CHONG</td>\n",
              "      <td>WIRE ROPE CABLE MAINTENANCE MECHANIC</td>\n",
              "      <td>77916.00</td>\n",
              "      <td>56120.71</td>\n",
              "      <td>198306.90</td>\n",
              "      <td>NaN</td>\n",
              "      <td>332343.61</td>\n",
              "      <td>332343.61</td>\n",
              "      <td>2011</td>\n",
              "      <td>NaN</td>\n",
              "      <td>San Francisco</td>\n",
              "      <td>NaN</td>\n",
              "    </tr>\n",
              "    <tr>\n",
              "      <th>4</th>\n",
              "      <td>5</td>\n",
              "      <td>PATRICK GARDNER</td>\n",
              "      <td>DEPUTY CHIEF OF DEPARTMENT,(FIRE DEPARTMENT)</td>\n",
              "      <td>134401.60</td>\n",
              "      <td>9737.00</td>\n",
              "      <td>182234.59</td>\n",
              "      <td>NaN</td>\n",
              "      <td>326373.19</td>\n",
              "      <td>326373.19</td>\n",
              "      <td>2011</td>\n",
              "      <td>NaN</td>\n",
              "      <td>San Francisco</td>\n",
              "      <td>NaN</td>\n",
              "    </tr>\n",
              "  </tbody>\n",
              "</table>\n",
              "</div>"
            ],
            "text/plain": [
              "   Id       EmployeeName  ...         Agency  Status\n",
              "0   1     NATHANIEL FORD  ...  San Francisco     NaN\n",
              "1   2       GARY JIMENEZ  ...  San Francisco     NaN\n",
              "2   3     ALBERT PARDINI  ...  San Francisco     NaN\n",
              "3   4  CHRISTOPHER CHONG  ...  San Francisco     NaN\n",
              "4   5    PATRICK GARDNER  ...  San Francisco     NaN\n",
              "\n",
              "[5 rows x 13 columns]"
            ]
          },
          "metadata": {
            "tags": []
          },
          "execution_count": 3
        }
      ]
    },
    {
      "cell_type": "code",
      "metadata": {
        "colab": {
          "base_uri": "https://localhost:8080/"
        },
        "id": "xHwcj0DBCAct",
        "outputId": "b91a0b04-35a1-4473-b02c-9e8b5fee3d3b"
      },
      "source": [
        "data.info()"
      ],
      "execution_count": 4,
      "outputs": [
        {
          "output_type": "stream",
          "text": [
            "<class 'pandas.core.frame.DataFrame'>\n",
            "RangeIndex: 148654 entries, 0 to 148653\n",
            "Data columns (total 13 columns):\n",
            " #   Column            Non-Null Count   Dtype  \n",
            "---  ------            --------------   -----  \n",
            " 0   Id                148654 non-null  int64  \n",
            " 1   EmployeeName      148654 non-null  object \n",
            " 2   JobTitle          148654 non-null  object \n",
            " 3   BasePay           148045 non-null  float64\n",
            " 4   OvertimePay       148650 non-null  float64\n",
            " 5   OtherPay          148650 non-null  float64\n",
            " 6   Benefits          112491 non-null  float64\n",
            " 7   TotalPay          148654 non-null  float64\n",
            " 8   TotalPayBenefits  148654 non-null  float64\n",
            " 9   Year              148654 non-null  int64  \n",
            " 10  Notes             0 non-null       float64\n",
            " 11  Agency            148654 non-null  object \n",
            " 12  Status            0 non-null       float64\n",
            "dtypes: float64(8), int64(2), object(3)\n",
            "memory usage: 14.7+ MB\n"
          ],
          "name": "stdout"
        }
      ]
    },
    {
      "cell_type": "code",
      "metadata": {
        "colab": {
          "base_uri": "https://localhost:8080/"
        },
        "id": "y0O4DFp6EZs3",
        "outputId": "222194a8-db14-4f8a-f036-32e64847532a"
      },
      "source": [
        "#Media dos salários\n",
        "data[\"BasePay\"].mean()"
      ],
      "execution_count": 5,
      "outputs": [
        {
          "output_type": "execute_result",
          "data": {
            "text/plain": [
              "66325.44884050643"
            ]
          },
          "metadata": {
            "tags": []
          },
          "execution_count": 5
        }
      ]
    },
    {
      "cell_type": "code",
      "metadata": {
        "colab": {
          "base_uri": "https://localhost:8080/"
        },
        "id": "fM1a4UtSEn02",
        "outputId": "3c5d366a-6ca2-4ee6-f2d8-bcc1243b6295"
      },
      "source": [
        "#Maior dos salários\n",
        "data[\"BasePay\"].max()"
      ],
      "execution_count": 6,
      "outputs": [
        {
          "output_type": "execute_result",
          "data": {
            "text/plain": [
              "319275.01"
            ]
          },
          "metadata": {
            "tags": []
          },
          "execution_count": 6
        }
      ]
    },
    {
      "cell_type": "code",
      "metadata": {
        "colab": {
          "base_uri": "https://localhost:8080/"
        },
        "id": "tbWyhZDFMiLl",
        "outputId": "cfe44666-6976-44c1-f5e1-fb9175a4a733"
      },
      "source": [
        "#pessoa com o maior salário\n",
        "data[data[\"BasePay\"] == data[\"BasePay\"].max()][\"EmployeeName\"]"
      ],
      "execution_count": 7,
      "outputs": [
        {
          "output_type": "execute_result",
          "data": {
            "text/plain": [
              "72925    Gregory P Suhr\n",
              "Name: EmployeeName, dtype: object"
            ]
          },
          "metadata": {
            "tags": []
          },
          "execution_count": 7
        }
      ]
    },
    {
      "cell_type": "code",
      "metadata": {
        "colab": {
          "base_uri": "https://localhost:8080/"
        },
        "id": "wSpHykrONFwE",
        "outputId": "0dedbba3-4273-4893-d98b-70b943f93aac"
      },
      "source": [
        "#Buscando mais dados a respeito \n",
        "data.iloc[data[\"BasePay\"].idxmax()]"
      ],
      "execution_count": 8,
      "outputs": [
        {
          "output_type": "execute_result",
          "data": {
            "text/plain": [
              "Id                            72926\n",
              "EmployeeName         Gregory P Suhr\n",
              "JobTitle            Chief of Police\n",
              "BasePay                      319275\n",
              "OvertimePay                       0\n",
              "OtherPay                    20007.1\n",
              "Benefits                    86533.2\n",
              "TotalPay                     339282\n",
              "TotalPayBenefits             425815\n",
              "Year                           2013\n",
              "Notes                           NaN\n",
              "Agency                San Francisco\n",
              "Status                          NaN\n",
              "Name: 72925, dtype: object"
            ]
          },
          "metadata": {
            "tags": []
          },
          "execution_count": 8
        }
      ]
    },
    {
      "cell_type": "code",
      "metadata": {
        "colab": {
          "base_uri": "https://localhost:8080/",
          "height": 537
        },
        "id": "Who7_EJwGK8A",
        "outputId": "ca420af1-c098-47c6-ce21-d34d38f5e3c5"
      },
      "source": [
        "#localizar os funcionários que tem como JobTitle = CAPTAIN III (POLICE DEPARTMENT) (10 primeiros da lista)\n",
        "data[data[\"JobTitle\"] == \"CAPTAIN III (POLICE DEPARTMENT)\"].head(10)"
      ],
      "execution_count": 9,
      "outputs": [
        {
          "output_type": "execute_result",
          "data": {
            "text/html": [
              "<div>\n",
              "<style scoped>\n",
              "    .dataframe tbody tr th:only-of-type {\n",
              "        vertical-align: middle;\n",
              "    }\n",
              "\n",
              "    .dataframe tbody tr th {\n",
              "        vertical-align: top;\n",
              "    }\n",
              "\n",
              "    .dataframe thead th {\n",
              "        text-align: right;\n",
              "    }\n",
              "</style>\n",
              "<table border=\"1\" class=\"dataframe\">\n",
              "  <thead>\n",
              "    <tr style=\"text-align: right;\">\n",
              "      <th></th>\n",
              "      <th>Id</th>\n",
              "      <th>EmployeeName</th>\n",
              "      <th>JobTitle</th>\n",
              "      <th>BasePay</th>\n",
              "      <th>OvertimePay</th>\n",
              "      <th>OtherPay</th>\n",
              "      <th>Benefits</th>\n",
              "      <th>TotalPay</th>\n",
              "      <th>TotalPayBenefits</th>\n",
              "      <th>Year</th>\n",
              "      <th>Notes</th>\n",
              "      <th>Agency</th>\n",
              "      <th>Status</th>\n",
              "    </tr>\n",
              "  </thead>\n",
              "  <tbody>\n",
              "    <tr>\n",
              "      <th>1</th>\n",
              "      <td>2</td>\n",
              "      <td>GARY JIMENEZ</td>\n",
              "      <td>CAPTAIN III (POLICE DEPARTMENT)</td>\n",
              "      <td>155966.02</td>\n",
              "      <td>245131.88</td>\n",
              "      <td>137811.38</td>\n",
              "      <td>NaN</td>\n",
              "      <td>538909.28</td>\n",
              "      <td>538909.28</td>\n",
              "      <td>2011</td>\n",
              "      <td>NaN</td>\n",
              "      <td>San Francisco</td>\n",
              "      <td>NaN</td>\n",
              "    </tr>\n",
              "    <tr>\n",
              "      <th>2</th>\n",
              "      <td>3</td>\n",
              "      <td>ALBERT PARDINI</td>\n",
              "      <td>CAPTAIN III (POLICE DEPARTMENT)</td>\n",
              "      <td>212739.13</td>\n",
              "      <td>106088.18</td>\n",
              "      <td>16452.60</td>\n",
              "      <td>NaN</td>\n",
              "      <td>335279.91</td>\n",
              "      <td>335279.91</td>\n",
              "      <td>2011</td>\n",
              "      <td>NaN</td>\n",
              "      <td>San Francisco</td>\n",
              "      <td>NaN</td>\n",
              "    </tr>\n",
              "    <tr>\n",
              "      <th>11</th>\n",
              "      <td>12</td>\n",
              "      <td>PATRICIA JACKSON</td>\n",
              "      <td>CAPTAIN III (POLICE DEPARTMENT)</td>\n",
              "      <td>99722.00</td>\n",
              "      <td>87082.62</td>\n",
              "      <td>110804.30</td>\n",
              "      <td>NaN</td>\n",
              "      <td>297608.92</td>\n",
              "      <td>297608.92</td>\n",
              "      <td>2011</td>\n",
              "      <td>NaN</td>\n",
              "      <td>San Francisco</td>\n",
              "      <td>NaN</td>\n",
              "    </tr>\n",
              "    <tr>\n",
              "      <th>61</th>\n",
              "      <td>62</td>\n",
              "      <td>ANNA BROWN</td>\n",
              "      <td>CAPTAIN III (POLICE DEPARTMENT)</td>\n",
              "      <td>102571.24</td>\n",
              "      <td>7437.00</td>\n",
              "      <td>128543.64</td>\n",
              "      <td>NaN</td>\n",
              "      <td>238551.88</td>\n",
              "      <td>238551.88</td>\n",
              "      <td>2011</td>\n",
              "      <td>NaN</td>\n",
              "      <td>San Francisco</td>\n",
              "      <td>NaN</td>\n",
              "    </tr>\n",
              "    <tr>\n",
              "      <th>65</th>\n",
              "      <td>66</td>\n",
              "      <td>RICHARD PARRY</td>\n",
              "      <td>CAPTAIN III (POLICE DEPARTMENT)</td>\n",
              "      <td>185369.69</td>\n",
              "      <td>37873.61</td>\n",
              "      <td>14465.53</td>\n",
              "      <td>NaN</td>\n",
              "      <td>237708.83</td>\n",
              "      <td>237708.83</td>\n",
              "      <td>2011</td>\n",
              "      <td>NaN</td>\n",
              "      <td>San Francisco</td>\n",
              "      <td>NaN</td>\n",
              "    </tr>\n",
              "    <tr>\n",
              "      <th>91</th>\n",
              "      <td>92</td>\n",
              "      <td>DONNA MEIXNER</td>\n",
              "      <td>CAPTAIN III (POLICE DEPARTMENT)</td>\n",
              "      <td>102722.40</td>\n",
              "      <td>7437.00</td>\n",
              "      <td>118456.21</td>\n",
              "      <td>NaN</td>\n",
              "      <td>228615.61</td>\n",
              "      <td>228615.61</td>\n",
              "      <td>2011</td>\n",
              "      <td>NaN</td>\n",
              "      <td>San Francisco</td>\n",
              "      <td>NaN</td>\n",
              "    </tr>\n",
              "    <tr>\n",
              "      <th>93</th>\n",
              "      <td>94</td>\n",
              "      <td>JOHN MURPHY</td>\n",
              "      <td>CAPTAIN III (POLICE DEPARTMENT)</td>\n",
              "      <td>215914.03</td>\n",
              "      <td>0.00</td>\n",
              "      <td>12293.83</td>\n",
              "      <td>NaN</td>\n",
              "      <td>228207.86</td>\n",
              "      <td>228207.86</td>\n",
              "      <td>2011</td>\n",
              "      <td>NaN</td>\n",
              "      <td>San Francisco</td>\n",
              "      <td>NaN</td>\n",
              "    </tr>\n",
              "    <tr>\n",
              "      <th>125</th>\n",
              "      <td>126</td>\n",
              "      <td>SHARON FERRIGNO</td>\n",
              "      <td>CAPTAIN III (POLICE DEPARTMENT)</td>\n",
              "      <td>185369.68</td>\n",
              "      <td>27321.83</td>\n",
              "      <td>4651.44</td>\n",
              "      <td>NaN</td>\n",
              "      <td>217342.95</td>\n",
              "      <td>217342.95</td>\n",
              "      <td>2011</td>\n",
              "      <td>NaN</td>\n",
              "      <td>San Francisco</td>\n",
              "      <td>NaN</td>\n",
              "    </tr>\n",
              "    <tr>\n",
              "      <th>211</th>\n",
              "      <td>212</td>\n",
              "      <td>CROCE CASCIATO</td>\n",
              "      <td>CAPTAIN III (POLICE DEPARTMENT)</td>\n",
              "      <td>188341.62</td>\n",
              "      <td>0.00</td>\n",
              "      <td>16206.24</td>\n",
              "      <td>NaN</td>\n",
              "      <td>204547.86</td>\n",
              "      <td>204547.86</td>\n",
              "      <td>2011</td>\n",
              "      <td>NaN</td>\n",
              "      <td>San Francisco</td>\n",
              "      <td>NaN</td>\n",
              "    </tr>\n",
              "    <tr>\n",
              "      <th>214</th>\n",
              "      <td>215</td>\n",
              "      <td>JOHN FEENEY</td>\n",
              "      <td>CAPTAIN III (POLICE DEPARTMENT)</td>\n",
              "      <td>188348.55</td>\n",
              "      <td>5720.22</td>\n",
              "      <td>10173.43</td>\n",
              "      <td>NaN</td>\n",
              "      <td>204242.20</td>\n",
              "      <td>204242.20</td>\n",
              "      <td>2011</td>\n",
              "      <td>NaN</td>\n",
              "      <td>San Francisco</td>\n",
              "      <td>NaN</td>\n",
              "    </tr>\n",
              "  </tbody>\n",
              "</table>\n",
              "</div>"
            ],
            "text/plain": [
              "      Id      EmployeeName  ...         Agency  Status\n",
              "1      2      GARY JIMENEZ  ...  San Francisco     NaN\n",
              "2      3    ALBERT PARDINI  ...  San Francisco     NaN\n",
              "11    12  PATRICIA JACKSON  ...  San Francisco     NaN\n",
              "61    62        ANNA BROWN  ...  San Francisco     NaN\n",
              "65    66     RICHARD PARRY  ...  San Francisco     NaN\n",
              "91    92     DONNA MEIXNER  ...  San Francisco     NaN\n",
              "93    94       JOHN MURPHY  ...  San Francisco     NaN\n",
              "125  126   SHARON FERRIGNO  ...  San Francisco     NaN\n",
              "211  212    CROCE CASCIATO  ...  San Francisco     NaN\n",
              "214  215       JOHN FEENEY  ...  San Francisco     NaN\n",
              "\n",
              "[10 rows x 13 columns]"
            ]
          },
          "metadata": {
            "tags": []
          },
          "execution_count": 9
        }
      ]
    },
    {
      "cell_type": "code",
      "metadata": {
        "colab": {
          "base_uri": "https://localhost:8080/"
        },
        "id": "FlvHYd5SOEow",
        "outputId": "f5303eef-becc-418c-b68c-b35ed2ad0f12"
      },
      "source": [
        "#Agrupando por ano a méédia de salário base\n",
        "data.groupby(\"Year\").mean()[\"BasePay\"]"
      ],
      "execution_count": 10,
      "outputs": [
        {
          "output_type": "execute_result",
          "data": {
            "text/plain": [
              "Year\n",
              "2011    63595.956517\n",
              "2012    65436.406857\n",
              "2013    69630.030216\n",
              "2014    66564.421924\n",
              "Name: BasePay, dtype: float64"
            ]
          },
          "metadata": {
            "tags": []
          },
          "execution_count": 10
        }
      ]
    },
    {
      "cell_type": "code",
      "metadata": {
        "colab": {
          "base_uri": "https://localhost:8080/"
        },
        "id": "eHU0waoBPW3-",
        "outputId": "cfbc5be7-385e-4026-f5e3-888f5e653bb6"
      },
      "source": [
        "#Visualizar quantos JobTitles únicos existem\n",
        "#outro jeito de fazer o mesmo codigo: len(data[\"JobTitle\"].unique())\n",
        "data[\"JobTitle\"].nunique()"
      ],
      "execution_count": 11,
      "outputs": [
        {
          "output_type": "execute_result",
          "data": {
            "text/plain": [
              "2159"
            ]
          },
          "metadata": {
            "tags": []
          },
          "execution_count": 11
        }
      ]
    },
    {
      "cell_type": "code",
      "metadata": {
        "colab": {
          "base_uri": "https://localhost:8080/"
        },
        "id": "Z139lTaUQJeQ",
        "outputId": "ef4c8790-d085-48c6-db96-6bbf7156c3bc"
      },
      "source": [
        "#Os 5 JobTitles mais comuns\n",
        "data[\"JobTitle\"].value_counts().head(5)"
      ],
      "execution_count": 12,
      "outputs": [
        {
          "output_type": "execute_result",
          "data": {
            "text/plain": [
              "Transit Operator                7036\n",
              "Special Nurse                   4389\n",
              "Registered Nurse                3736\n",
              "Public Svc Aide-Public Works    2518\n",
              "Police Officer 3                2421\n",
              "Name: JobTitle, dtype: int64"
            ]
          },
          "metadata": {
            "tags": []
          },
          "execution_count": 12
        }
      ]
    },
    {
      "cell_type": "code",
      "metadata": {
        "id": "jer3HjJLRGNy"
      },
      "source": [
        "#Criando uma função para verificar se a pessoa possui \"Chief\" no JobTitle\n",
        "def chief_string(title):\n",
        "  if \"chief\" in title.lower().split():\n",
        "      return True\n",
        "  else:\n",
        "      return False"
      ],
      "execution_count": 13,
      "outputs": []
    },
    {
      "cell_type": "code",
      "metadata": {
        "colab": {
          "base_uri": "https://localhost:8080/"
        },
        "id": "4M24mU2MQS12",
        "outputId": "33611700-4024-4a08-c41f-8d18f8e69244"
      },
      "source": [
        "#Aplicando a função e somando a quantidade encontrada com a função sum()\n",
        "sum(data[\"JobTitle\"].apply(lambda x: chief_string(x)))"
      ],
      "execution_count": 14,
      "outputs": [
        {
          "output_type": "execute_result",
          "data": {
            "text/plain": [
              "477"
            ]
          },
          "metadata": {
            "tags": []
          },
          "execution_count": 14
        }
      ]
    },
    {
      "cell_type": "code",
      "metadata": {
        "colab": {
          "base_uri": "https://localhost:8080/",
          "height": 363
        },
        "id": "nv7QmWoOStKS",
        "outputId": "78433197-505b-4b9a-9e72-96d622719cab"
      },
      "source": [
        "#Numero de funcionários em cada cargo (10 primeiros da lista)\n",
        "data[\"Quantidade\"] = data[\"JobTitle\"].apply(len)\n",
        "data[[\"JobTitle\", \"Quantidade\"]].head(10)"
      ],
      "execution_count": 15,
      "outputs": [
        {
          "output_type": "execute_result",
          "data": {
            "text/html": [
              "<div>\n",
              "<style scoped>\n",
              "    .dataframe tbody tr th:only-of-type {\n",
              "        vertical-align: middle;\n",
              "    }\n",
              "\n",
              "    .dataframe tbody tr th {\n",
              "        vertical-align: top;\n",
              "    }\n",
              "\n",
              "    .dataframe thead th {\n",
              "        text-align: right;\n",
              "    }\n",
              "</style>\n",
              "<table border=\"1\" class=\"dataframe\">\n",
              "  <thead>\n",
              "    <tr style=\"text-align: right;\">\n",
              "      <th></th>\n",
              "      <th>JobTitle</th>\n",
              "      <th>Quantidade</th>\n",
              "    </tr>\n",
              "  </thead>\n",
              "  <tbody>\n",
              "    <tr>\n",
              "      <th>0</th>\n",
              "      <td>GENERAL MANAGER-METROPOLITAN TRANSIT AUTHORITY</td>\n",
              "      <td>46</td>\n",
              "    </tr>\n",
              "    <tr>\n",
              "      <th>1</th>\n",
              "      <td>CAPTAIN III (POLICE DEPARTMENT)</td>\n",
              "      <td>31</td>\n",
              "    </tr>\n",
              "    <tr>\n",
              "      <th>2</th>\n",
              "      <td>CAPTAIN III (POLICE DEPARTMENT)</td>\n",
              "      <td>31</td>\n",
              "    </tr>\n",
              "    <tr>\n",
              "      <th>3</th>\n",
              "      <td>WIRE ROPE CABLE MAINTENANCE MECHANIC</td>\n",
              "      <td>36</td>\n",
              "    </tr>\n",
              "    <tr>\n",
              "      <th>4</th>\n",
              "      <td>DEPUTY CHIEF OF DEPARTMENT,(FIRE DEPARTMENT)</td>\n",
              "      <td>44</td>\n",
              "    </tr>\n",
              "    <tr>\n",
              "      <th>5</th>\n",
              "      <td>ASSISTANT DEPUTY CHIEF II</td>\n",
              "      <td>25</td>\n",
              "    </tr>\n",
              "    <tr>\n",
              "      <th>6</th>\n",
              "      <td>BATTALION CHIEF, (FIRE DEPARTMENT)</td>\n",
              "      <td>34</td>\n",
              "    </tr>\n",
              "    <tr>\n",
              "      <th>7</th>\n",
              "      <td>DEPUTY DIRECTOR OF INVESTMENTS</td>\n",
              "      <td>30</td>\n",
              "    </tr>\n",
              "    <tr>\n",
              "      <th>8</th>\n",
              "      <td>BATTALION CHIEF, (FIRE DEPARTMENT)</td>\n",
              "      <td>34</td>\n",
              "    </tr>\n",
              "    <tr>\n",
              "      <th>9</th>\n",
              "      <td>CHIEF OF DEPARTMENT, (FIRE DEPARTMENT)</td>\n",
              "      <td>38</td>\n",
              "    </tr>\n",
              "  </tbody>\n",
              "</table>\n",
              "</div>"
            ],
            "text/plain": [
              "                                         JobTitle  Quantidade\n",
              "0  GENERAL MANAGER-METROPOLITAN TRANSIT AUTHORITY          46\n",
              "1                 CAPTAIN III (POLICE DEPARTMENT)          31\n",
              "2                 CAPTAIN III (POLICE DEPARTMENT)          31\n",
              "3            WIRE ROPE CABLE MAINTENANCE MECHANIC          36\n",
              "4    DEPUTY CHIEF OF DEPARTMENT,(FIRE DEPARTMENT)          44\n",
              "5                       ASSISTANT DEPUTY CHIEF II          25\n",
              "6              BATTALION CHIEF, (FIRE DEPARTMENT)          34\n",
              "7                  DEPUTY DIRECTOR OF INVESTMENTS          30\n",
              "8              BATTALION CHIEF, (FIRE DEPARTMENT)          34\n",
              "9          CHIEF OF DEPARTMENT, (FIRE DEPARTMENT)          38"
            ]
          },
          "metadata": {
            "tags": []
          },
          "execution_count": 15
        }
      ]
    },
    {
      "cell_type": "code",
      "metadata": {
        "colab": {
          "base_uri": "https://localhost:8080/",
          "height": 677
        },
        "id": "NtBXCOz4TrnS",
        "outputId": "dbe33113-9cca-460c-8ae3-384742ffd8ea"
      },
      "source": [
        "#Ordenando do mais frequento para o menos frequente (20 primeiros mais frequentes)\n",
        "dadinho = data[[\"JobTitle\", \"Quantidade\"]]\n",
        "dadinho.sort_values(by=[\"Quantidade\"], ascending=False).head(20)"
      ],
      "execution_count": 16,
      "outputs": [
        {
          "output_type": "execute_result",
          "data": {
            "text/html": [
              "<div>\n",
              "<style scoped>\n",
              "    .dataframe tbody tr th:only-of-type {\n",
              "        vertical-align: middle;\n",
              "    }\n",
              "\n",
              "    .dataframe tbody tr th {\n",
              "        vertical-align: top;\n",
              "    }\n",
              "\n",
              "    .dataframe thead th {\n",
              "        text-align: right;\n",
              "    }\n",
              "</style>\n",
              "<table border=\"1\" class=\"dataframe\">\n",
              "  <thead>\n",
              "    <tr style=\"text-align: right;\">\n",
              "      <th></th>\n",
              "      <th>JobTitle</th>\n",
              "      <th>Quantidade</th>\n",
              "    </tr>\n",
              "  </thead>\n",
              "  <tbody>\n",
              "    <tr>\n",
              "      <th>197</th>\n",
              "      <td>CAPTAIN, BUREAU OF FIRE PREVENTION AND PUBLIC ...</td>\n",
              "      <td>50</td>\n",
              "    </tr>\n",
              "    <tr>\n",
              "      <th>10331</th>\n",
              "      <td>ASSISTANT TO THE DIRECTOR, PUBLIC AFFAIRS     ...</td>\n",
              "      <td>50</td>\n",
              "    </tr>\n",
              "    <tr>\n",
              "      <th>278</th>\n",
              "      <td>INSPECTOR, BUREAU OF FIRE PREVENTION AND PUBLI...</td>\n",
              "      <td>50</td>\n",
              "    </tr>\n",
              "    <tr>\n",
              "      <th>34811</th>\n",
              "      <td>AIRPORT ASSISTANT DEPUTY DIRECTOR, BUSINESS AD...</td>\n",
              "      <td>50</td>\n",
              "    </tr>\n",
              "    <tr>\n",
              "      <th>31008</th>\n",
              "      <td>APPRENTICE STATIONARY ENGINEER,WATER TREATMENT...</td>\n",
              "      <td>50</td>\n",
              "    </tr>\n",
              "    <tr>\n",
              "      <th>883</th>\n",
              "      <td>INSPECTOR, BUREAU OF FIRE PREVENTION AND PUBLI...</td>\n",
              "      <td>50</td>\n",
              "    </tr>\n",
              "    <tr>\n",
              "      <th>4908</th>\n",
              "      <td>LIEUTENANT, BUREAU OF FIRE PREVENTION AND PUBL...</td>\n",
              "      <td>50</td>\n",
              "    </tr>\n",
              "    <tr>\n",
              "      <th>1644</th>\n",
              "      <td>INSPECTOR, BUREAU OF FIRE PREVENTION AND PUBLI...</td>\n",
              "      <td>50</td>\n",
              "    </tr>\n",
              "    <tr>\n",
              "      <th>3820</th>\n",
              "      <td>INSPECTOR, BUREAU OF FIRE PREVENTION AND PUBLI...</td>\n",
              "      <td>50</td>\n",
              "    </tr>\n",
              "    <tr>\n",
              "      <th>3287</th>\n",
              "      <td>INSPECTOR, BUREAU OF FIRE PREVENTION AND PUBLI...</td>\n",
              "      <td>50</td>\n",
              "    </tr>\n",
              "    <tr>\n",
              "      <th>7659</th>\n",
              "      <td>ELECTRONIC MAINTENANCE TECHNICIAN ASSISTANT SU...</td>\n",
              "      <td>50</td>\n",
              "    </tr>\n",
              "    <tr>\n",
              "      <th>13127</th>\n",
              "      <td>SENIOR CENTRAL PROCESSING AND DISTRIBUTION TEC...</td>\n",
              "      <td>50</td>\n",
              "    </tr>\n",
              "    <tr>\n",
              "      <th>6894</th>\n",
              "      <td>ELECTRONIC MAINTENANCE TECHNICIAN ASSISTANT SU...</td>\n",
              "      <td>50</td>\n",
              "    </tr>\n",
              "    <tr>\n",
              "      <th>5752</th>\n",
              "      <td>ELECTRONIC MAINTENANCE TECHNICIAN ASSISTANT SU...</td>\n",
              "      <td>50</td>\n",
              "    </tr>\n",
              "    <tr>\n",
              "      <th>4832</th>\n",
              "      <td>ELECTRONIC MAINTENANCE TECHNICIAN ASSISTANT SU...</td>\n",
              "      <td>50</td>\n",
              "    </tr>\n",
              "    <tr>\n",
              "      <th>7117</th>\n",
              "      <td>ELECTRONIC MAINTENANCE TECHNICIAN ASSISTANT SU...</td>\n",
              "      <td>50</td>\n",
              "    </tr>\n",
              "    <tr>\n",
              "      <th>11305</th>\n",
              "      <td>SENIOR INVESTIGATOR, OFFICE OF CITIZEN'S COMPL...</td>\n",
              "      <td>50</td>\n",
              "    </tr>\n",
              "    <tr>\n",
              "      <th>26735</th>\n",
              "      <td>APPRENTICE STATIONARY ENGINEER,WATER TREATMENT...</td>\n",
              "      <td>50</td>\n",
              "    </tr>\n",
              "    <tr>\n",
              "      <th>13252</th>\n",
              "      <td>EXECUTIVE ASSISTANT TO THE ADMINISTRATOR, S.F....</td>\n",
              "      <td>50</td>\n",
              "    </tr>\n",
              "    <tr>\n",
              "      <th>3976</th>\n",
              "      <td>ELECTRONIC MAINTENANCE TECHNICIAN ASSISTANT SU...</td>\n",
              "      <td>50</td>\n",
              "    </tr>\n",
              "  </tbody>\n",
              "</table>\n",
              "</div>"
            ],
            "text/plain": [
              "                                                JobTitle  Quantidade\n",
              "197    CAPTAIN, BUREAU OF FIRE PREVENTION AND PUBLIC ...          50\n",
              "10331  ASSISTANT TO THE DIRECTOR, PUBLIC AFFAIRS     ...          50\n",
              "278    INSPECTOR, BUREAU OF FIRE PREVENTION AND PUBLI...          50\n",
              "34811  AIRPORT ASSISTANT DEPUTY DIRECTOR, BUSINESS AD...          50\n",
              "31008  APPRENTICE STATIONARY ENGINEER,WATER TREATMENT...          50\n",
              "883    INSPECTOR, BUREAU OF FIRE PREVENTION AND PUBLI...          50\n",
              "4908   LIEUTENANT, BUREAU OF FIRE PREVENTION AND PUBL...          50\n",
              "1644   INSPECTOR, BUREAU OF FIRE PREVENTION AND PUBLI...          50\n",
              "3820   INSPECTOR, BUREAU OF FIRE PREVENTION AND PUBLI...          50\n",
              "3287   INSPECTOR, BUREAU OF FIRE PREVENTION AND PUBLI...          50\n",
              "7659   ELECTRONIC MAINTENANCE TECHNICIAN ASSISTANT SU...          50\n",
              "13127  SENIOR CENTRAL PROCESSING AND DISTRIBUTION TEC...          50\n",
              "6894   ELECTRONIC MAINTENANCE TECHNICIAN ASSISTANT SU...          50\n",
              "5752   ELECTRONIC MAINTENANCE TECHNICIAN ASSISTANT SU...          50\n",
              "4832   ELECTRONIC MAINTENANCE TECHNICIAN ASSISTANT SU...          50\n",
              "7117   ELECTRONIC MAINTENANCE TECHNICIAN ASSISTANT SU...          50\n",
              "11305  SENIOR INVESTIGATOR, OFFICE OF CITIZEN'S COMPL...          50\n",
              "26735  APPRENTICE STATIONARY ENGINEER,WATER TREATMENT...          50\n",
              "13252  EXECUTIVE ASSISTANT TO THE ADMINISTRATOR, S.F....          50\n",
              "3976   ELECTRONIC MAINTENANCE TECHNICIAN ASSISTANT SU...          50"
            ]
          },
          "metadata": {
            "tags": []
          },
          "execution_count": 16
        }
      ]
    }
  ]
}