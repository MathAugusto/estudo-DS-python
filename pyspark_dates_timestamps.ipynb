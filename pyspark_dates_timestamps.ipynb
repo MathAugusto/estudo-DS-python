{
  "nbformat": 4,
  "nbformat_minor": 0,
  "metadata": {
    "colab": {
      "name": "pyspark-dates-timestamps.ipynb",
      "provenance": [],
      "collapsed_sections": [],
      "authorship_tag": "ABX9TyOIkmaYA5bcN3d5MgjxGrkv"
    },
    "kernelspec": {
      "name": "python3",
      "display_name": "Python 3"
    }
  },
  "cells": [
    {
      "cell_type": "markdown",
      "metadata": {
        "id": "rBADhxNiBtnh"
      },
      "source": [
        "# **PYSPARK - dates and timestamps**"
      ]
    },
    {
      "cell_type": "code",
      "metadata": {
        "id": "aMaUxss89Xh_"
      },
      "source": [
        "from pyspark.sql import SparkSession"
      ],
      "execution_count": 1,
      "outputs": []
    },
    {
      "cell_type": "code",
      "metadata": {
        "id": "r2Yb2a3Z9Xkf"
      },
      "source": [
        "spark = SparkSession.builder.appName('dates').getOrCreate()"
      ],
      "execution_count": 2,
      "outputs": []
    },
    {
      "cell_type": "code",
      "metadata": {
        "id": "ZtYYi8OD9Xm0"
      },
      "source": [
        "df = spark.read.csv('appl_stock.csv', header=True,inferSchema=True)"
      ],
      "execution_count": 3,
      "outputs": []
    },
    {
      "cell_type": "code",
      "metadata": {
        "id": "wCcm7Um89Xo6"
      },
      "source": [
        "#df.select(['Date', 'Open']).show()"
      ],
      "execution_count": 4,
      "outputs": []
    },
    {
      "cell_type": "code",
      "metadata": {
        "id": "mMce-Omh9Nxt"
      },
      "source": [
        "from pyspark.sql.functions import (dayofmonth,hour,dayofyear,month,\n",
        "                                   year,weekofyear,format_number,date_format)"
      ],
      "execution_count": 5,
      "outputs": []
    },
    {
      "cell_type": "code",
      "metadata": {
        "colab": {
          "base_uri": "https://localhost:8080/"
        },
        "id": "8BbgDIfm9N0S",
        "outputId": "d55ed440-af2e-41a0-ab37-e1f7a4c564df"
      },
      "source": [
        "df.select(dayofmonth(df['Date'])).show(10)"
      ],
      "execution_count": 6,
      "outputs": [
        {
          "output_type": "stream",
          "text": [
            "+----------------+\n",
            "|dayofmonth(Date)|\n",
            "+----------------+\n",
            "|               4|\n",
            "|               5|\n",
            "|               6|\n",
            "|               7|\n",
            "|               8|\n",
            "|              11|\n",
            "|              12|\n",
            "|              13|\n",
            "|              14|\n",
            "|              15|\n",
            "+----------------+\n",
            "only showing top 10 rows\n",
            "\n"
          ],
          "name": "stdout"
        }
      ]
    },
    {
      "cell_type": "code",
      "metadata": {
        "id": "52UcJGJt_y4N"
      },
      "source": [
        "newdf = df.withColumn('Year',year(df['Date']))"
      ],
      "execution_count": 7,
      "outputs": []
    },
    {
      "cell_type": "code",
      "metadata": {
        "id": "yhtao_v-_y7u"
      },
      "source": [
        "result = newdf.groupBy('Year').mean().select(['Year', 'avg(Close)'])"
      ],
      "execution_count": 8,
      "outputs": []
    },
    {
      "cell_type": "code",
      "metadata": {
        "id": "CoUGkAca_y_K"
      },
      "source": [
        "new = result.withColumnRenamed('avg(Close)','Average Close Price')"
      ],
      "execution_count": 9,
      "outputs": []
    },
    {
      "cell_type": "code",
      "metadata": {
        "colab": {
          "base_uri": "https://localhost:8080/"
        },
        "id": "CYkDtbGD9N6g",
        "outputId": "baf825b5-47e6-4910-8be3-a4f9ed8ded6f"
      },
      "source": [
        "new.select(['Year',format_number('Average Close Price',2).alias('Avg Close')]).show()"
      ],
      "execution_count": 10,
      "outputs": [
        {
          "output_type": "stream",
          "text": [
            "+----+---------+\n",
            "|Year|Avg Close|\n",
            "+----+---------+\n",
            "|2015|   120.04|\n",
            "|2013|   472.63|\n",
            "|2014|   295.40|\n",
            "|2012|   576.05|\n",
            "|2016|   104.60|\n",
            "|2010|   259.84|\n",
            "|2011|   364.00|\n",
            "+----+---------+\n",
            "\n"
          ],
          "name": "stdout"
        }
      ]
    }
  ]
}