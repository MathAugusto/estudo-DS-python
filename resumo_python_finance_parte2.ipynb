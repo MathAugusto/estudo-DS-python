{
  "nbformat": 4,
  "nbformat_minor": 0,
  "metadata": {
    "colab": {
      "name": "resumo_python_finance_parte2.ipynb",
      "provenance": [],
      "collapsed_sections": [],
      "authorship_tag": "ABX9TyOdMpjXpRQQQ2JFkq0yDaAH"
    },
    "kernelspec": {
      "name": "python3",
      "display_name": "Python 3"
    }
  },
  "cells": [
    {
      "cell_type": "markdown",
      "metadata": {
        "id": "boTIiGCE99fm"
      },
      "source": [
        "# INTRODUÇÃO A CRIAÇÃO DE SÉRIES TEMPORAIS"
      ]
    },
    {
      "cell_type": "code",
      "metadata": {
        "id": "b4lXI0_BwyYV"
      },
      "source": [
        "import numpy as np\n",
        "import pandas as pd\n",
        "from pandas_datareader import data as wb"
      ],
      "execution_count": 1,
      "outputs": []
    },
    {
      "cell_type": "code",
      "metadata": {
        "id": "hPPow0HXxCHV"
      },
      "source": [
        "frames = pd.Series(np.random.random(5), name = \"Coluna01\")"
      ],
      "execution_count": 2,
      "outputs": []
    },
    {
      "cell_type": "code",
      "metadata": {
        "colab": {
          "base_uri": "https://localhost:8080/"
        },
        "id": "UDA6CscdxCJs",
        "outputId": "8104acc0-8f2b-47ef-e8c9-92bbf1d386a0"
      },
      "source": [
        "frames"
      ],
      "execution_count": 3,
      "outputs": [
        {
          "output_type": "execute_result",
          "data": {
            "text/plain": [
              "0    0.665829\n",
              "1    0.295483\n",
              "2    0.352182\n",
              "3    0.440864\n",
              "4    0.410492\n",
              "Name: Coluna01, dtype: float64"
            ]
          },
          "metadata": {
            "tags": []
          },
          "execution_count": 3
        }
      ]
    },
    {
      "cell_type": "code",
      "metadata": {
        "id": "BVlB40GmxCMC"
      },
      "source": [
        "# IMPORT DOS DADOS VIA API DO YAHOO\n",
        "# PG é o ticker (como fica o nome das empresas na bolsa)\n",
        "# Ex: Apple(AAPL), Microsoft(MSFT), etc\n",
        "# Depois especifica a data de início da extração\n",
        "PG = wb.DataReader('PG', data_source='yahoo', start='1995-1-1')"
      ],
      "execution_count": 4,
      "outputs": []
    },
    {
      "cell_type": "code",
      "metadata": {
        "colab": {
          "base_uri": "https://localhost:8080/",
          "height": 238
        },
        "id": "83_0tRdFxCOl",
        "outputId": "f5e31656-c65c-442a-8c49-75ced99f6799"
      },
      "source": [
        "# Séries temporais\n",
        "# Incluem apenas dias de negociação (Sem sabados domingos e feriados)\n",
        "PG.head()"
      ],
      "execution_count": 5,
      "outputs": [
        {
          "output_type": "execute_result",
          "data": {
            "text/html": [
              "<div>\n",
              "<style scoped>\n",
              "    .dataframe tbody tr th:only-of-type {\n",
              "        vertical-align: middle;\n",
              "    }\n",
              "\n",
              "    .dataframe tbody tr th {\n",
              "        vertical-align: top;\n",
              "    }\n",
              "\n",
              "    .dataframe thead th {\n",
              "        text-align: right;\n",
              "    }\n",
              "</style>\n",
              "<table border=\"1\" class=\"dataframe\">\n",
              "  <thead>\n",
              "    <tr style=\"text-align: right;\">\n",
              "      <th></th>\n",
              "      <th>High</th>\n",
              "      <th>Low</th>\n",
              "      <th>Open</th>\n",
              "      <th>Close</th>\n",
              "      <th>Volume</th>\n",
              "      <th>Adj Close</th>\n",
              "    </tr>\n",
              "    <tr>\n",
              "      <th>Date</th>\n",
              "      <th></th>\n",
              "      <th></th>\n",
              "      <th></th>\n",
              "      <th></th>\n",
              "      <th></th>\n",
              "      <th></th>\n",
              "    </tr>\n",
              "  </thead>\n",
              "  <tbody>\n",
              "    <tr>\n",
              "      <th>1995-01-03</th>\n",
              "      <td>15.62500</td>\n",
              "      <td>15.43750</td>\n",
              "      <td>15.46875</td>\n",
              "      <td>15.59375</td>\n",
              "      <td>3318400.0</td>\n",
              "      <td>8.215732</td>\n",
              "    </tr>\n",
              "    <tr>\n",
              "      <th>1995-01-04</th>\n",
              "      <td>15.65625</td>\n",
              "      <td>15.31250</td>\n",
              "      <td>15.53125</td>\n",
              "      <td>15.46875</td>\n",
              "      <td>2218800.0</td>\n",
              "      <td>8.149876</td>\n",
              "    </tr>\n",
              "    <tr>\n",
              "      <th>1995-01-05</th>\n",
              "      <td>15.43750</td>\n",
              "      <td>15.21875</td>\n",
              "      <td>15.37500</td>\n",
              "      <td>15.25000</td>\n",
              "      <td>2319600.0</td>\n",
              "      <td>8.034625</td>\n",
              "    </tr>\n",
              "    <tr>\n",
              "      <th>1995-01-06</th>\n",
              "      <td>15.40625</td>\n",
              "      <td>15.15625</td>\n",
              "      <td>15.15625</td>\n",
              "      <td>15.28125</td>\n",
              "      <td>3438000.0</td>\n",
              "      <td>8.051086</td>\n",
              "    </tr>\n",
              "    <tr>\n",
              "      <th>1995-01-09</th>\n",
              "      <td>15.40625</td>\n",
              "      <td>15.18750</td>\n",
              "      <td>15.34375</td>\n",
              "      <td>15.21875</td>\n",
              "      <td>1795200.0</td>\n",
              "      <td>8.018162</td>\n",
              "    </tr>\n",
              "  </tbody>\n",
              "</table>\n",
              "</div>"
            ],
            "text/plain": [
              "                High       Low      Open     Close     Volume  Adj Close\n",
              "Date                                                                    \n",
              "1995-01-03  15.62500  15.43750  15.46875  15.59375  3318400.0   8.215732\n",
              "1995-01-04  15.65625  15.31250  15.53125  15.46875  2218800.0   8.149876\n",
              "1995-01-05  15.43750  15.21875  15.37500  15.25000  2319600.0   8.034625\n",
              "1995-01-06  15.40625  15.15625  15.15625  15.28125  3438000.0   8.051086\n",
              "1995-01-09  15.40625  15.18750  15.34375  15.21875  1795200.0   8.018162"
            ]
          },
          "metadata": {
            "tags": []
          },
          "execution_count": 5
        }
      ]
    },
    {
      "cell_type": "code",
      "metadata": {
        "colab": {
          "base_uri": "https://localhost:8080/",
          "height": 238
        },
        "id": "5XF1TKOeyy26",
        "outputId": "f63f7584-0cd3-4230-a9b2-41c9820a2faf"
      },
      "source": [
        "PG.tail()"
      ],
      "execution_count": 6,
      "outputs": [
        {
          "output_type": "execute_result",
          "data": {
            "text/html": [
              "<div>\n",
              "<style scoped>\n",
              "    .dataframe tbody tr th:only-of-type {\n",
              "        vertical-align: middle;\n",
              "    }\n",
              "\n",
              "    .dataframe tbody tr th {\n",
              "        vertical-align: top;\n",
              "    }\n",
              "\n",
              "    .dataframe thead th {\n",
              "        text-align: right;\n",
              "    }\n",
              "</style>\n",
              "<table border=\"1\" class=\"dataframe\">\n",
              "  <thead>\n",
              "    <tr style=\"text-align: right;\">\n",
              "      <th></th>\n",
              "      <th>High</th>\n",
              "      <th>Low</th>\n",
              "      <th>Open</th>\n",
              "      <th>Close</th>\n",
              "      <th>Volume</th>\n",
              "      <th>Adj Close</th>\n",
              "    </tr>\n",
              "    <tr>\n",
              "      <th>Date</th>\n",
              "      <th></th>\n",
              "      <th></th>\n",
              "      <th></th>\n",
              "      <th></th>\n",
              "      <th></th>\n",
              "      <th></th>\n",
              "    </tr>\n",
              "  </thead>\n",
              "  <tbody>\n",
              "    <tr>\n",
              "      <th>2021-01-05</th>\n",
              "      <td>138.919998</td>\n",
              "      <td>136.270004</td>\n",
              "      <td>137.990005</td>\n",
              "      <td>138.699997</td>\n",
              "      <td>6856400.0</td>\n",
              "      <td>138.699997</td>\n",
              "    </tr>\n",
              "    <tr>\n",
              "      <th>2021-01-06</th>\n",
              "      <td>141.039993</td>\n",
              "      <td>138.600006</td>\n",
              "      <td>138.770004</td>\n",
              "      <td>140.160004</td>\n",
              "      <td>10578000.0</td>\n",
              "      <td>140.160004</td>\n",
              "    </tr>\n",
              "    <tr>\n",
              "      <th>2021-01-07</th>\n",
              "      <td>140.130005</td>\n",
              "      <td>138.039993</td>\n",
              "      <td>139.750000</td>\n",
              "      <td>138.850006</td>\n",
              "      <td>7355400.0</td>\n",
              "      <td>138.850006</td>\n",
              "    </tr>\n",
              "    <tr>\n",
              "      <th>2021-01-08</th>\n",
              "      <td>139.059998</td>\n",
              "      <td>137.000000</td>\n",
              "      <td>138.470001</td>\n",
              "      <td>138.789993</td>\n",
              "      <td>7447700.0</td>\n",
              "      <td>138.789993</td>\n",
              "    </tr>\n",
              "    <tr>\n",
              "      <th>2021-01-11</th>\n",
              "      <td>139.440002</td>\n",
              "      <td>138.089996</td>\n",
              "      <td>138.750000</td>\n",
              "      <td>138.225006</td>\n",
              "      <td>1076737.0</td>\n",
              "      <td>138.225006</td>\n",
              "    </tr>\n",
              "  </tbody>\n",
              "</table>\n",
              "</div>"
            ],
            "text/plain": [
              "                  High         Low  ...      Volume   Adj Close\n",
              "Date                                ...                        \n",
              "2021-01-05  138.919998  136.270004  ...   6856400.0  138.699997\n",
              "2021-01-06  141.039993  138.600006  ...  10578000.0  140.160004\n",
              "2021-01-07  140.130005  138.039993  ...   7355400.0  138.850006\n",
              "2021-01-08  139.059998  137.000000  ...   7447700.0  138.789993\n",
              "2021-01-11  139.440002  138.089996  ...   1076737.0  138.225006\n",
              "\n",
              "[5 rows x 6 columns]"
            ]
          },
          "metadata": {
            "tags": []
          },
          "execution_count": 6
        }
      ]
    },
    {
      "cell_type": "code",
      "metadata": {
        "colab": {
          "base_uri": "https://localhost:8080/"
        },
        "id": "GH76x8jjxq6Y",
        "outputId": "3d80b24d-1f5a-4122-9d53-ec976b9d9d50"
      },
      "source": [
        "PG.info()"
      ],
      "execution_count": 7,
      "outputs": [
        {
          "output_type": "stream",
          "text": [
            "<class 'pandas.core.frame.DataFrame'>\n",
            "DatetimeIndex: 6553 entries, 1995-01-03 to 2021-01-11\n",
            "Data columns (total 6 columns):\n",
            " #   Column     Non-Null Count  Dtype  \n",
            "---  ------     --------------  -----  \n",
            " 0   High       6553 non-null   float64\n",
            " 1   Low        6553 non-null   float64\n",
            " 2   Open       6553 non-null   float64\n",
            " 3   Close      6553 non-null   float64\n",
            " 4   Volume     6553 non-null   float64\n",
            " 5   Adj Close  6553 non-null   float64\n",
            "dtypes: float64(6)\n",
            "memory usage: 358.4 KB\n"
          ],
          "name": "stdout"
        }
      ]
    },
    {
      "cell_type": "code",
      "metadata": {
        "id": "c8MWcHhjyWhM"
      },
      "source": [
        "# Criando lista com Ticker de outras empresas:\n",
        "# Foi escolhida apenas a coluna 'Adj Close'\n",
        "tickers = ['PG', 'MSFT', 'T', 'F', 'GE']\n",
        "new_data = pd.DataFrame()\n",
        "for tick in tickers:\n",
        "    new_data[tick] = wb.DataReader(tick, data_source='yahoo', start='1995-1-1')['Adj Close']"
      ],
      "execution_count": 8,
      "outputs": []
    },
    {
      "cell_type": "code",
      "metadata": {
        "colab": {
          "base_uri": "https://localhost:8080/",
          "height": 238
        },
        "id": "igNZlc6uyWk-",
        "outputId": "a68d9488-187a-45c8-80fc-ff905e3a5b7d"
      },
      "source": [
        "new_data.head()"
      ],
      "execution_count": 9,
      "outputs": [
        {
          "output_type": "execute_result",
          "data": {
            "text/html": [
              "<div>\n",
              "<style scoped>\n",
              "    .dataframe tbody tr th:only-of-type {\n",
              "        vertical-align: middle;\n",
              "    }\n",
              "\n",
              "    .dataframe tbody tr th {\n",
              "        vertical-align: top;\n",
              "    }\n",
              "\n",
              "    .dataframe thead th {\n",
              "        text-align: right;\n",
              "    }\n",
              "</style>\n",
              "<table border=\"1\" class=\"dataframe\">\n",
              "  <thead>\n",
              "    <tr style=\"text-align: right;\">\n",
              "      <th></th>\n",
              "      <th>PG</th>\n",
              "      <th>MSFT</th>\n",
              "      <th>T</th>\n",
              "      <th>F</th>\n",
              "      <th>GE</th>\n",
              "    </tr>\n",
              "    <tr>\n",
              "      <th>Date</th>\n",
              "      <th></th>\n",
              "      <th></th>\n",
              "      <th></th>\n",
              "      <th></th>\n",
              "      <th></th>\n",
              "    </tr>\n",
              "  </thead>\n",
              "  <tbody>\n",
              "    <tr>\n",
              "      <th>1995-01-03</th>\n",
              "      <td>8.215732</td>\n",
              "      <td>2.394761</td>\n",
              "      <td>6.087094</td>\n",
              "      <td>4.380183</td>\n",
              "      <td>4.122630</td>\n",
              "    </tr>\n",
              "    <tr>\n",
              "      <th>1995-01-04</th>\n",
              "      <td>8.149876</td>\n",
              "      <td>2.412169</td>\n",
              "      <td>6.052292</td>\n",
              "      <td>4.498034</td>\n",
              "      <td>4.122630</td>\n",
              "    </tr>\n",
              "    <tr>\n",
              "      <th>1995-01-05</th>\n",
              "      <td>8.034625</td>\n",
              "      <td>2.372380</td>\n",
              "      <td>6.146861</td>\n",
              "      <td>4.458752</td>\n",
              "      <td>4.132737</td>\n",
              "    </tr>\n",
              "    <tr>\n",
              "      <th>1995-01-06</th>\n",
              "      <td>8.051086</td>\n",
              "      <td>2.412169</td>\n",
              "      <td>6.146861</td>\n",
              "      <td>4.458752</td>\n",
              "      <td>4.112525</td>\n",
              "    </tr>\n",
              "    <tr>\n",
              "      <th>1995-01-09</th>\n",
              "      <td>8.018162</td>\n",
              "      <td>2.397249</td>\n",
              "      <td>6.127946</td>\n",
              "      <td>4.537320</td>\n",
              "      <td>4.072110</td>\n",
              "    </tr>\n",
              "  </tbody>\n",
              "</table>\n",
              "</div>"
            ],
            "text/plain": [
              "                  PG      MSFT         T         F        GE\n",
              "Date                                                        \n",
              "1995-01-03  8.215732  2.394761  6.087094  4.380183  4.122630\n",
              "1995-01-04  8.149876  2.412169  6.052292  4.498034  4.122630\n",
              "1995-01-05  8.034625  2.372380  6.146861  4.458752  4.132737\n",
              "1995-01-06  8.051086  2.412169  6.146861  4.458752  4.112525\n",
              "1995-01-09  8.018162  2.397249  6.127946  4.537320  4.072110"
            ]
          },
          "metadata": {
            "tags": []
          },
          "execution_count": 9
        }
      ]
    },
    {
      "cell_type": "code",
      "metadata": {
        "colab": {
          "base_uri": "https://localhost:8080/",
          "height": 238
        },
        "id": "Ets3j1PrxrPj",
        "outputId": "783b4d00-23d4-4ad7-c0c4-9717e8cac60a"
      },
      "source": [
        "new_data.tail()"
      ],
      "execution_count": 10,
      "outputs": [
        {
          "output_type": "execute_result",
          "data": {
            "text/html": [
              "<div>\n",
              "<style scoped>\n",
              "    .dataframe tbody tr th:only-of-type {\n",
              "        vertical-align: middle;\n",
              "    }\n",
              "\n",
              "    .dataframe tbody tr th {\n",
              "        vertical-align: top;\n",
              "    }\n",
              "\n",
              "    .dataframe thead th {\n",
              "        text-align: right;\n",
              "    }\n",
              "</style>\n",
              "<table border=\"1\" class=\"dataframe\">\n",
              "  <thead>\n",
              "    <tr style=\"text-align: right;\">\n",
              "      <th></th>\n",
              "      <th>PG</th>\n",
              "      <th>MSFT</th>\n",
              "      <th>T</th>\n",
              "      <th>F</th>\n",
              "      <th>GE</th>\n",
              "    </tr>\n",
              "    <tr>\n",
              "      <th>Date</th>\n",
              "      <th></th>\n",
              "      <th></th>\n",
              "      <th></th>\n",
              "      <th></th>\n",
              "      <th></th>\n",
              "    </tr>\n",
              "  </thead>\n",
              "  <tbody>\n",
              "    <tr>\n",
              "      <th>2021-01-05</th>\n",
              "      <td>138.699997</td>\n",
              "      <td>217.899994</td>\n",
              "      <td>28.751301</td>\n",
              "      <td>8.650</td>\n",
              "      <td>10.77</td>\n",
              "    </tr>\n",
              "    <tr>\n",
              "      <th>2021-01-06</th>\n",
              "      <td>140.160004</td>\n",
              "      <td>212.250000</td>\n",
              "      <td>29.311392</td>\n",
              "      <td>8.840</td>\n",
              "      <td>11.36</td>\n",
              "    </tr>\n",
              "    <tr>\n",
              "      <th>2021-01-07</th>\n",
              "      <td>138.850006</td>\n",
              "      <td>218.289993</td>\n",
              "      <td>29.389999</td>\n",
              "      <td>9.060</td>\n",
              "      <td>11.27</td>\n",
              "    </tr>\n",
              "    <tr>\n",
              "      <th>2021-01-08</th>\n",
              "      <td>138.789993</td>\n",
              "      <td>219.619995</td>\n",
              "      <td>29.020000</td>\n",
              "      <td>9.000</td>\n",
              "      <td>11.34</td>\n",
              "    </tr>\n",
              "    <tr>\n",
              "      <th>2021-01-11</th>\n",
              "      <td>138.179993</td>\n",
              "      <td>217.912094</td>\n",
              "      <td>28.875000</td>\n",
              "      <td>9.105</td>\n",
              "      <td>11.35</td>\n",
              "    </tr>\n",
              "  </tbody>\n",
              "</table>\n",
              "</div>"
            ],
            "text/plain": [
              "                    PG        MSFT          T      F     GE\n",
              "Date                                                       \n",
              "2021-01-05  138.699997  217.899994  28.751301  8.650  10.77\n",
              "2021-01-06  140.160004  212.250000  29.311392  8.840  11.36\n",
              "2021-01-07  138.850006  218.289993  29.389999  9.060  11.27\n",
              "2021-01-08  138.789993  219.619995  29.020000  9.000  11.34\n",
              "2021-01-11  138.179993  217.912094  28.875000  9.105  11.35"
            ]
          },
          "metadata": {
            "tags": []
          },
          "execution_count": 10
        }
      ]
    },
    {
      "cell_type": "code",
      "metadata": {
        "id": "sQyYfHV8xrSN"
      },
      "source": [
        "# Definindo data como index (jeito 1)\n",
        "dataf = pd.read_csv('Data_02.csv', index_col='Date')"
      ],
      "execution_count": 11,
      "outputs": []
    },
    {
      "cell_type": "code",
      "metadata": {
        "colab": {
          "base_uri": "https://localhost:8080/",
          "height": 275
        },
        "id": "NEzd3SsHxrUu",
        "outputId": "0c42edde-bc38-4927-a7ce-541d2945acd9"
      },
      "source": [
        "dataf.head()"
      ],
      "execution_count": 12,
      "outputs": [
        {
          "output_type": "execute_result",
          "data": {
            "text/html": [
              "<div>\n",
              "<style scoped>\n",
              "    .dataframe tbody tr th:only-of-type {\n",
              "        vertical-align: middle;\n",
              "    }\n",
              "\n",
              "    .dataframe tbody tr th {\n",
              "        vertical-align: top;\n",
              "    }\n",
              "\n",
              "    .dataframe thead th {\n",
              "        text-align: right;\n",
              "    }\n",
              "</style>\n",
              "<table border=\"1\" class=\"dataframe\">\n",
              "  <thead>\n",
              "    <tr style=\"text-align: right;\">\n",
              "      <th></th>\n",
              "      <th>Open</th>\n",
              "      <th>High</th>\n",
              "      <th>Low</th>\n",
              "      <th>Close</th>\n",
              "      <th>Volume</th>\n",
              "      <th>Ex-Dividend</th>\n",
              "      <th>Split Ratio</th>\n",
              "      <th>Adj. Open</th>\n",
              "      <th>Adj. High</th>\n",
              "      <th>Adj. Low</th>\n",
              "      <th>Adj. Close</th>\n",
              "      <th>Adj. Volume</th>\n",
              "    </tr>\n",
              "    <tr>\n",
              "      <th>Date</th>\n",
              "      <th></th>\n",
              "      <th></th>\n",
              "      <th></th>\n",
              "      <th></th>\n",
              "      <th></th>\n",
              "      <th></th>\n",
              "      <th></th>\n",
              "      <th></th>\n",
              "      <th></th>\n",
              "      <th></th>\n",
              "      <th></th>\n",
              "      <th></th>\n",
              "    </tr>\n",
              "  </thead>\n",
              "  <tbody>\n",
              "    <tr>\n",
              "      <th>2017-03-03</th>\n",
              "      <td>136.63</td>\n",
              "      <td>137.3300</td>\n",
              "      <td>136.08</td>\n",
              "      <td>137.1300</td>\n",
              "      <td>11095605.0</td>\n",
              "      <td>0.0</td>\n",
              "      <td>1.0</td>\n",
              "      <td>136.63</td>\n",
              "      <td>137.3300</td>\n",
              "      <td>136.08</td>\n",
              "      <td>137.1300</td>\n",
              "      <td>11095605.0</td>\n",
              "    </tr>\n",
              "    <tr>\n",
              "      <th>2017-03-02</th>\n",
              "      <td>137.09</td>\n",
              "      <td>137.8200</td>\n",
              "      <td>136.31</td>\n",
              "      <td>136.7603</td>\n",
              "      <td>12243028.0</td>\n",
              "      <td>0.0</td>\n",
              "      <td>1.0</td>\n",
              "      <td>137.09</td>\n",
              "      <td>137.8200</td>\n",
              "      <td>136.31</td>\n",
              "      <td>136.7603</td>\n",
              "      <td>12243028.0</td>\n",
              "    </tr>\n",
              "    <tr>\n",
              "      <th>2017-03-01</th>\n",
              "      <td>136.47</td>\n",
              "      <td>137.4800</td>\n",
              "      <td>136.30</td>\n",
              "      <td>137.4200</td>\n",
              "      <td>16257010.0</td>\n",
              "      <td>0.0</td>\n",
              "      <td>1.0</td>\n",
              "      <td>136.47</td>\n",
              "      <td>137.4800</td>\n",
              "      <td>136.30</td>\n",
              "      <td>137.4200</td>\n",
              "      <td>16257010.0</td>\n",
              "    </tr>\n",
              "    <tr>\n",
              "      <th>2017-02-28</th>\n",
              "      <td>136.79</td>\n",
              "      <td>136.8050</td>\n",
              "      <td>134.75</td>\n",
              "      <td>135.5400</td>\n",
              "      <td>16112092.0</td>\n",
              "      <td>0.0</td>\n",
              "      <td>1.0</td>\n",
              "      <td>136.79</td>\n",
              "      <td>136.8050</td>\n",
              "      <td>134.75</td>\n",
              "      <td>135.5400</td>\n",
              "      <td>16112092.0</td>\n",
              "    </tr>\n",
              "    <tr>\n",
              "      <th>2017-02-27</th>\n",
              "      <td>135.26</td>\n",
              "      <td>137.1846</td>\n",
              "      <td>135.02</td>\n",
              "      <td>136.4100</td>\n",
              "      <td>14306668.0</td>\n",
              "      <td>0.0</td>\n",
              "      <td>1.0</td>\n",
              "      <td>135.26</td>\n",
              "      <td>137.1846</td>\n",
              "      <td>135.02</td>\n",
              "      <td>136.4100</td>\n",
              "      <td>14306668.0</td>\n",
              "    </tr>\n",
              "  </tbody>\n",
              "</table>\n",
              "</div>"
            ],
            "text/plain": [
              "              Open      High     Low  ...  Adj. Low  Adj. Close  Adj. Volume\n",
              "Date                                  ...                                   \n",
              "2017-03-03  136.63  137.3300  136.08  ...    136.08    137.1300   11095605.0\n",
              "2017-03-02  137.09  137.8200  136.31  ...    136.31    136.7603   12243028.0\n",
              "2017-03-01  136.47  137.4800  136.30  ...    136.30    137.4200   16257010.0\n",
              "2017-02-28  136.79  136.8050  134.75  ...    134.75    135.5400   16112092.0\n",
              "2017-02-27  135.26  137.1846  135.02  ...    135.02    136.4100   14306668.0\n",
              "\n",
              "[5 rows x 12 columns]"
            ]
          },
          "metadata": {
            "tags": []
          },
          "execution_count": 12
        }
      ]
    },
    {
      "cell_type": "code",
      "metadata": {
        "id": "W02T2-eOxrYI"
      },
      "source": [
        "# Definindo ano como index (jeito 2)\n",
        "datag = pd.read_excel(\"Data_03.xlsx\")"
      ],
      "execution_count": 13,
      "outputs": []
    },
    {
      "cell_type": "code",
      "metadata": {
        "colab": {
          "base_uri": "https://localhost:8080/",
          "height": 206
        },
        "id": "XLtFnN1w9itZ",
        "outputId": "704af27d-c0b3-4c50-dac7-572e64f52414"
      },
      "source": [
        "datag.head()"
      ],
      "execution_count": 14,
      "outputs": [
        {
          "output_type": "execute_result",
          "data": {
            "text/html": [
              "<div>\n",
              "<style scoped>\n",
              "    .dataframe tbody tr th:only-of-type {\n",
              "        vertical-align: middle;\n",
              "    }\n",
              "\n",
              "    .dataframe tbody tr th {\n",
              "        vertical-align: top;\n",
              "    }\n",
              "\n",
              "    .dataframe thead th {\n",
              "        text-align: right;\n",
              "    }\n",
              "</style>\n",
              "<table border=\"1\" class=\"dataframe\">\n",
              "  <thead>\n",
              "    <tr style=\"text-align: right;\">\n",
              "      <th></th>\n",
              "      <th>Year</th>\n",
              "      <th>Gas Exp</th>\n",
              "      <th>Pop</th>\n",
              "      <th>Gasp</th>\n",
              "      <th>Income</th>\n",
              "    </tr>\n",
              "  </thead>\n",
              "  <tbody>\n",
              "    <tr>\n",
              "      <th>0</th>\n",
              "      <td>1953</td>\n",
              "      <td>7.4</td>\n",
              "      <td>159565</td>\n",
              "      <td>16.667999</td>\n",
              "      <td>8883</td>\n",
              "    </tr>\n",
              "    <tr>\n",
              "      <th>1</th>\n",
              "      <td>1954</td>\n",
              "      <td>7.8</td>\n",
              "      <td>162391</td>\n",
              "      <td>17.028999</td>\n",
              "      <td>8685</td>\n",
              "    </tr>\n",
              "    <tr>\n",
              "      <th>2</th>\n",
              "      <td>1955</td>\n",
              "      <td>8.6</td>\n",
              "      <td>165275</td>\n",
              "      <td>17.209999</td>\n",
              "      <td>9137</td>\n",
              "    </tr>\n",
              "    <tr>\n",
              "      <th>3</th>\n",
              "      <td>1956</td>\n",
              "      <td>9.4</td>\n",
              "      <td>168221</td>\n",
              "      <td>17.729000</td>\n",
              "      <td>9436</td>\n",
              "    </tr>\n",
              "    <tr>\n",
              "      <th>4</th>\n",
              "      <td>1957</td>\n",
              "      <td>10.2</td>\n",
              "      <td>171274</td>\n",
              "      <td>18.497000</td>\n",
              "      <td>9534</td>\n",
              "    </tr>\n",
              "  </tbody>\n",
              "</table>\n",
              "</div>"
            ],
            "text/plain": [
              "   Year  Gas Exp     Pop       Gasp  Income\n",
              "0  1953      7.4  159565  16.667999    8883\n",
              "1  1954      7.8  162391  17.028999    8685\n",
              "2  1955      8.6  165275  17.209999    9137\n",
              "3  1956      9.4  168221  17.729000    9436\n",
              "4  1957     10.2  171274  18.497000    9534"
            ]
          },
          "metadata": {
            "tags": []
          },
          "execution_count": 14
        }
      ]
    },
    {
      "cell_type": "code",
      "metadata": {
        "id": "si0wL9Gy9kWs"
      },
      "source": [
        "datag = datag.set_index('Year')"
      ],
      "execution_count": 15,
      "outputs": []
    },
    {
      "cell_type": "code",
      "metadata": {
        "colab": {
          "base_uri": "https://localhost:8080/",
          "height": 238
        },
        "id": "O0MOy4l796CD",
        "outputId": "274cff7a-c3aa-4d31-f88b-488f33cae179"
      },
      "source": [
        "datag.head()"
      ],
      "execution_count": 16,
      "outputs": [
        {
          "output_type": "execute_result",
          "data": {
            "text/html": [
              "<div>\n",
              "<style scoped>\n",
              "    .dataframe tbody tr th:only-of-type {\n",
              "        vertical-align: middle;\n",
              "    }\n",
              "\n",
              "    .dataframe tbody tr th {\n",
              "        vertical-align: top;\n",
              "    }\n",
              "\n",
              "    .dataframe thead th {\n",
              "        text-align: right;\n",
              "    }\n",
              "</style>\n",
              "<table border=\"1\" class=\"dataframe\">\n",
              "  <thead>\n",
              "    <tr style=\"text-align: right;\">\n",
              "      <th></th>\n",
              "      <th>Gas Exp</th>\n",
              "      <th>Pop</th>\n",
              "      <th>Gasp</th>\n",
              "      <th>Income</th>\n",
              "    </tr>\n",
              "    <tr>\n",
              "      <th>Year</th>\n",
              "      <th></th>\n",
              "      <th></th>\n",
              "      <th></th>\n",
              "      <th></th>\n",
              "    </tr>\n",
              "  </thead>\n",
              "  <tbody>\n",
              "    <tr>\n",
              "      <th>1953</th>\n",
              "      <td>7.4</td>\n",
              "      <td>159565</td>\n",
              "      <td>16.667999</td>\n",
              "      <td>8883</td>\n",
              "    </tr>\n",
              "    <tr>\n",
              "      <th>1954</th>\n",
              "      <td>7.8</td>\n",
              "      <td>162391</td>\n",
              "      <td>17.028999</td>\n",
              "      <td>8685</td>\n",
              "    </tr>\n",
              "    <tr>\n",
              "      <th>1955</th>\n",
              "      <td>8.6</td>\n",
              "      <td>165275</td>\n",
              "      <td>17.209999</td>\n",
              "      <td>9137</td>\n",
              "    </tr>\n",
              "    <tr>\n",
              "      <th>1956</th>\n",
              "      <td>9.4</td>\n",
              "      <td>168221</td>\n",
              "      <td>17.729000</td>\n",
              "      <td>9436</td>\n",
              "    </tr>\n",
              "    <tr>\n",
              "      <th>1957</th>\n",
              "      <td>10.2</td>\n",
              "      <td>171274</td>\n",
              "      <td>18.497000</td>\n",
              "      <td>9534</td>\n",
              "    </tr>\n",
              "  </tbody>\n",
              "</table>\n",
              "</div>"
            ],
            "text/plain": [
              "      Gas Exp     Pop       Gasp  Income\n",
              "Year                                    \n",
              "1953      7.4  159565  16.667999    8883\n",
              "1954      7.8  162391  17.028999    8685\n",
              "1955      8.6  165275  17.209999    9137\n",
              "1956      9.4  168221  17.729000    9436\n",
              "1957     10.2  171274  18.497000    9534"
            ]
          },
          "metadata": {
            "tags": []
          },
          "execution_count": 16
        }
      ]
    }
  ]
}