{
  "nbformat": 4,
  "nbformat_minor": 0,
  "metadata": {
    "colab": {
      "name": "pyspark-missing-data.ipynb",
      "provenance": [],
      "collapsed_sections": [],
      "authorship_tag": "ABX9TyPe91ufv9jzrQYXEn1nGo5G"
    },
    "kernelspec": {
      "name": "python3",
      "display_name": "Python 3"
    }
  },
  "cells": [
    {
      "cell_type": "markdown",
      "metadata": {
        "id": "fNJr2niHqYhG"
      },
      "source": [
        "# PY SPARK - Missing Data"
      ]
    },
    {
      "cell_type": "code",
      "metadata": {
        "id": "DqZl7Qt7qj9k"
      },
      "source": [
        "from pyspark.sql import SparkSession"
      ],
      "execution_count": 1,
      "outputs": []
    },
    {
      "cell_type": "code",
      "metadata": {
        "id": "auWQBog6qj_-"
      },
      "source": [
        "spark = SparkSession.builder.appName('miss').getOrCreate()"
      ],
      "execution_count": 2,
      "outputs": []
    },
    {
      "cell_type": "code",
      "metadata": {
        "id": "LTzBUFHvqkCS"
      },
      "source": [
        "df = spark.read.csv('vendedores.csv', inferSchema=True,\n",
        "                    header=True)"
      ],
      "execution_count": 3,
      "outputs": []
    },
    {
      "cell_type": "code",
      "metadata": {
        "colab": {
          "base_uri": "https://localhost:8080/"
        },
        "id": "m1a7FFUxqkEe",
        "outputId": "b9a3e81f-4010-4e33-f9bc-79eea17ff249"
      },
      "source": [
        "df.show()"
      ],
      "execution_count": 4,
      "outputs": [
        {
          "output_type": "stream",
          "text": [
            "+----+-------+-----+\n",
            "|  Id|   Name|Sales|\n",
            "+----+-------+-----+\n",
            "|emp1|    Sam|  200|\n",
            "|emp2|Charlie| null|\n",
            "|Emp3|   null| null|\n",
            "|emp4|   Tina|  600|\n",
            "|emp5|   null|  124|\n",
            "|emp6|Vanessa|  243|\n",
            "+----+-------+-----+\n",
            "\n"
          ],
          "name": "stdout"
        }
      ]
    },
    {
      "cell_type": "code",
      "metadata": {
        "colab": {
          "base_uri": "https://localhost:8080/"
        },
        "id": "3Q17exdn25s6",
        "outputId": "54b70559-cf26-406f-af5b-09d78091698b"
      },
      "source": [
        "# RETIRAR A LINHA TODA CASO ELA TENHA MISSING DATA:\n",
        "df.na.drop().show()"
      ],
      "execution_count": 5,
      "outputs": [
        {
          "output_type": "stream",
          "text": [
            "+----+-------+-----+\n",
            "|  Id|   Name|Sales|\n",
            "+----+-------+-----+\n",
            "|emp1|    Sam|  200|\n",
            "|emp4|   Tina|  600|\n",
            "|emp6|Vanessa|  243|\n",
            "+----+-------+-----+\n",
            "\n"
          ],
          "name": "stdout"
        }
      ]
    },
    {
      "cell_type": "code",
      "metadata": {
        "colab": {
          "base_uri": "https://localhost:8080/"
        },
        "id": "Cm0_YL0a2KSg",
        "outputId": "fbe71853-4543-48aa-9673-0691f9b25b2b"
      },
      "source": [
        "# THRESH: (seleciona a patir de quantos NA pode ter na linha/\n",
        "#          para q ela nao seja apagada)\n",
        "df.na.drop(thresh=2).show()"
      ],
      "execution_count": 6,
      "outputs": [
        {
          "output_type": "stream",
          "text": [
            "+----+-------+-----+\n",
            "|  Id|   Name|Sales|\n",
            "+----+-------+-----+\n",
            "|emp1|    Sam|  200|\n",
            "|emp2|Charlie| null|\n",
            "|emp4|   Tina|  600|\n",
            "|emp5|   null|  124|\n",
            "|emp6|Vanessa|  243|\n",
            "+----+-------+-----+\n",
            "\n"
          ],
          "name": "stdout"
        }
      ]
    },
    {
      "cell_type": "code",
      "metadata": {
        "colab": {
          "base_uri": "https://localhost:8080/"
        },
        "id": "PVpdul-C2KVE",
        "outputId": "586b71ef-fc2b-422a-9acb-3cc3b049ff08"
      },
      "source": [
        "# OUTROS JEITOS\n",
        "df.na.drop(how='all').show()"
      ],
      "execution_count": 7,
      "outputs": [
        {
          "output_type": "stream",
          "text": [
            "+----+-------+-----+\n",
            "|  Id|   Name|Sales|\n",
            "+----+-------+-----+\n",
            "|emp1|    Sam|  200|\n",
            "|emp2|Charlie| null|\n",
            "|Emp3|   null| null|\n",
            "|emp4|   Tina|  600|\n",
            "|emp5|   null|  124|\n",
            "|emp6|Vanessa|  243|\n",
            "+----+-------+-----+\n",
            "\n"
          ],
          "name": "stdout"
        }
      ]
    },
    {
      "cell_type": "code",
      "metadata": {
        "colab": {
          "base_uri": "https://localhost:8080/"
        },
        "id": "C9Y234UF2KXa",
        "outputId": "1c324753-c688-4205-86fc-4c70fa9cc6af"
      },
      "source": [
        "df.na.drop(subset=['Sales']).show()"
      ],
      "execution_count": 8,
      "outputs": [
        {
          "output_type": "stream",
          "text": [
            "+----+-------+-----+\n",
            "|  Id|   Name|Sales|\n",
            "+----+-------+-----+\n",
            "|emp1|    Sam|  200|\n",
            "|emp4|   Tina|  600|\n",
            "|emp5|   null|  124|\n",
            "|emp6|Vanessa|  243|\n",
            "+----+-------+-----+\n",
            "\n"
          ],
          "name": "stdout"
        }
      ]
    },
    {
      "cell_type": "code",
      "metadata": {
        "colab": {
          "base_uri": "https://localhost:8080/"
        },
        "id": "aQuN1qXBzssZ",
        "outputId": "d2aadb2c-28b3-4e9c-df12-04fabcd680d1"
      },
      "source": [
        "df.printSchema()"
      ],
      "execution_count": 9,
      "outputs": [
        {
          "output_type": "stream",
          "text": [
            "root\n",
            " |-- Id: string (nullable = true)\n",
            " |-- Name: string (nullable = true)\n",
            " |-- Sales: integer (nullable = true)\n",
            "\n"
          ],
          "name": "stdout"
        }
      ]
    },
    {
      "cell_type": "code",
      "metadata": {
        "colab": {
          "base_uri": "https://localhost:8080/"
        },
        "id": "M95EhIYh2KZk",
        "outputId": "cb086c16-d51d-44e3-ee53-67b7ec6ee4a1"
      },
      "source": [
        "df.na.fill(0).show()"
      ],
      "execution_count": 10,
      "outputs": [
        {
          "output_type": "stream",
          "text": [
            "+----+-------+-----+\n",
            "|  Id|   Name|Sales|\n",
            "+----+-------+-----+\n",
            "|emp1|    Sam|  200|\n",
            "|emp2|Charlie|    0|\n",
            "|Emp3|   null|    0|\n",
            "|emp4|   Tina|  600|\n",
            "|emp5|   null|  124|\n",
            "|emp6|Vanessa|  243|\n",
            "+----+-------+-----+\n",
            "\n"
          ],
          "name": "stdout"
        }
      ]
    },
    {
      "cell_type": "code",
      "metadata": {
        "colab": {
          "base_uri": "https://localhost:8080/"
        },
        "id": "pV7eOR4ozjoX",
        "outputId": "01af1e78-1098-45b1-ebc9-e3595098dd83"
      },
      "source": [
        "df.na.fill('FILL VALUE', subset=['Name']).show()"
      ],
      "execution_count": 11,
      "outputs": [
        {
          "output_type": "stream",
          "text": [
            "+----+----------+-----+\n",
            "|  Id|      Name|Sales|\n",
            "+----+----------+-----+\n",
            "|emp1|       Sam|  200|\n",
            "|emp2|   Charlie| null|\n",
            "|Emp3|FILL VALUE| null|\n",
            "|emp4|      Tina|  600|\n",
            "|emp5|FILL VALUE|  124|\n",
            "|emp6|   Vanessa|  243|\n",
            "+----+----------+-----+\n",
            "\n"
          ],
          "name": "stdout"
        }
      ]
    },
    {
      "cell_type": "code",
      "metadata": {
        "id": "dK1certjzjr4"
      },
      "source": [
        "# SUBSTITUINDO VALORES N.A. PELA MEDIA \n",
        "from pyspark.sql.functions import mean"
      ],
      "execution_count": 12,
      "outputs": []
    },
    {
      "cell_type": "code",
      "metadata": {
        "id": "kduTonzdzjud"
      },
      "source": [
        "mean_val = df.select(mean(df['Sales'])).collect()"
      ],
      "execution_count": 13,
      "outputs": []
    },
    {
      "cell_type": "code",
      "metadata": {
        "id": "AApP5pxs2Kbo"
      },
      "source": [
        "# to dict\n",
        "mean_sales = mean_val[0][0]"
      ],
      "execution_count": 14,
      "outputs": []
    },
    {
      "cell_type": "code",
      "metadata": {
        "colab": {
          "base_uri": "https://localhost:8080/"
        },
        "id": "Hi9CT8TV3rP-",
        "outputId": "94e7539e-b445-40ce-d879-95de7e88cfcf"
      },
      "source": [
        "mean_sales"
      ],
      "execution_count": 15,
      "outputs": [
        {
          "output_type": "execute_result",
          "data": {
            "text/plain": [
              "291.75"
            ]
          },
          "metadata": {
            "tags": []
          },
          "execution_count": 15
        }
      ]
    },
    {
      "cell_type": "code",
      "metadata": {
        "colab": {
          "base_uri": "https://localhost:8080/"
        },
        "id": "JwZ7Mkf63rSd",
        "outputId": "cea140f9-6e79-4466-d74c-1292888d2304"
      },
      "source": [
        "df.na.fill(mean_sales,['Sales']).show()"
      ],
      "execution_count": 16,
      "outputs": [
        {
          "output_type": "stream",
          "text": [
            "+----+-------+-----+\n",
            "|  Id|   Name|Sales|\n",
            "+----+-------+-----+\n",
            "|emp1|    Sam|  200|\n",
            "|emp2|Charlie|  291|\n",
            "|Emp3|   null|  291|\n",
            "|emp4|   Tina|  600|\n",
            "|emp5|   null|  124|\n",
            "|emp6|Vanessa|  243|\n",
            "+----+-------+-----+\n",
            "\n"
          ],
          "name": "stdout"
        }
      ]
    },
    {
      "cell_type": "code",
      "metadata": {
        "colab": {
          "base_uri": "https://localhost:8080/"
        },
        "id": "R87p7zBR01Ek",
        "outputId": "29777921-57b4-46e1-9fac-bd2ddffeb1fb"
      },
      "source": [
        "# OU, FAZENDO TUDO NA MESMA LINHA DE CODIGO:\n",
        "df.na.fill(df.select(mean(df['Sales'])).collect()[0][0],['Sales']).show()"
      ],
      "execution_count": 17,
      "outputs": [
        {
          "output_type": "stream",
          "text": [
            "+----+-------+-----+\n",
            "|  Id|   Name|Sales|\n",
            "+----+-------+-----+\n",
            "|emp1|    Sam|  200|\n",
            "|emp2|Charlie|  291|\n",
            "|Emp3|   null|  291|\n",
            "|emp4|   Tina|  600|\n",
            "|emp5|   null|  124|\n",
            "|emp6|Vanessa|  243|\n",
            "+----+-------+-----+\n",
            "\n"
          ],
          "name": "stdout"
        }
      ]
    }
  ]
}