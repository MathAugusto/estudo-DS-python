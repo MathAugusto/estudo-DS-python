{
  "nbformat": 4,
  "nbformat_minor": 0,
  "metadata": {
    "colab": {
      "name": "dataframes-basics-pyspark.ipynb",
      "provenance": [],
      "collapsed_sections": [],
      "authorship_tag": "ABX9TyMcykORanjiqLzq4gdf5l1u"
    },
    "kernelspec": {
      "name": "python3",
      "display_name": "Python 3"
    }
  },
  "cells": [
    {
      "cell_type": "code",
      "metadata": {
        "colab": {
          "base_uri": "https://localhost:8080/"
        },
        "id": "puuIaDUUhx0H",
        "outputId": "64d21ece-4329-475f-9329-683fe8350319"
      },
      "source": [
        "pip install pyspark"
      ],
      "execution_count": 1,
      "outputs": [
        {
          "output_type": "stream",
          "text": [
            "Collecting pyspark\n",
            "\u001b[?25l  Downloading https://files.pythonhosted.org/packages/27/67/5158f846202d7f012d1c9ca21c3549a58fd3c6707ae8ee823adcaca6473c/pyspark-3.0.2.tar.gz (204.8MB)\n",
            "\u001b[K     |████████████████████████████████| 204.8MB 63kB/s \n",
            "\u001b[?25hCollecting py4j==0.10.9\n",
            "\u001b[?25l  Downloading https://files.pythonhosted.org/packages/9e/b6/6a4fb90cd235dc8e265a6a2067f2a2c99f0d91787f06aca4bcf7c23f3f80/py4j-0.10.9-py2.py3-none-any.whl (198kB)\n",
            "\u001b[K     |████████████████████████████████| 204kB 54.9MB/s \n",
            "\u001b[?25hBuilding wheels for collected packages: pyspark\n",
            "  Building wheel for pyspark (setup.py) ... \u001b[?25l\u001b[?25hdone\n",
            "  Created wheel for pyspark: filename=pyspark-3.0.2-py2.py3-none-any.whl size=205186687 sha256=cdf67ed35aeb56abcfe117d3e56d09331583eed119dca42be7259cf53db70fa8\n",
            "  Stored in directory: /root/.cache/pip/wheels/8b/09/da/c1f2859bcc86375dc972c5b6af4881b3603269bcc4c9be5d16\n",
            "Successfully built pyspark\n",
            "Installing collected packages: py4j, pyspark\n",
            "Successfully installed py4j-0.10.9 pyspark-3.0.2\n"
          ],
          "name": "stdout"
        }
      ]
    },
    {
      "cell_type": "code",
      "metadata": {
        "id": "bhD0gdD8iKxq"
      },
      "source": [
        "from pyspark.sql import SparkSession "
      ],
      "execution_count": 5,
      "outputs": []
    },
    {
      "cell_type": "code",
      "metadata": {
        "id": "XlnI1YZCiK0w"
      },
      "source": [
        "spark = SparkSession.builder.appName('ops').getOrCreate()"
      ],
      "execution_count": 7,
      "outputs": []
    },
    {
      "cell_type": "code",
      "metadata": {
        "id": "vCKT2913ictB"
      },
      "source": [
        "df = spark.read.csv('appl_stock.csv', inferSchema=True,header=True)"
      ],
      "execution_count": 9,
      "outputs": []
    },
    {
      "cell_type": "code",
      "metadata": {
        "colab": {
          "base_uri": "https://localhost:8080/"
        },
        "id": "ghx6XEWOiLAJ",
        "outputId": "7a98a75c-d64b-43c1-829b-11bd08fac1fa"
      },
      "source": [
        "df.printSchema()"
      ],
      "execution_count": 10,
      "outputs": [
        {
          "output_type": "stream",
          "text": [
            "root\n",
            " |-- Date: string (nullable = true)\n",
            " |-- Open: double (nullable = true)\n",
            " |-- High: double (nullable = true)\n",
            " |-- Low: double (nullable = true)\n",
            " |-- Close: double (nullable = true)\n",
            " |-- Volume: integer (nullable = true)\n",
            " |-- Adj Close: double (nullable = true)\n",
            "\n"
          ],
          "name": "stdout"
        }
      ]
    },
    {
      "cell_type": "code",
      "metadata": {
        "colab": {
          "base_uri": "https://localhost:8080/"
        },
        "id": "-n-J3GNYiLCh",
        "outputId": "5f919546-f1db-4402-b429-c87fcb523c22"
      },
      "source": [
        "df.show(10)"
      ],
      "execution_count": 13,
      "outputs": [
        {
          "output_type": "stream",
          "text": [
            "+----------+------+------+------+------+--------+---------+\n",
            "|      Date|  Open|  High|   Low| Close|  Volume|Adj Close|\n",
            "+----------+------+------+------+------+--------+---------+\n",
            "|2012-03-30|608.77|610.56|597.94|599.55|26050900|   599.55|\n",
            "|2012-03-29|612.78|616.56|607.23|609.86|21668300|   609.86|\n",
            "|2012-03-28|618.38|621.45|610.31|617.62|23385200|   617.62|\n",
            "|2012-03-27|606.18|616.28|606.06|614.48|21628200|   614.48|\n",
            "|2012-03-26|599.79|607.15|595.26|606.98|21259900|   606.98|\n",
            "|2012-03-23|600.49| 601.8| 594.4|596.05|15359900|   596.05|\n",
            "|2012-03-22|597.78| 604.5|595.53|599.34|22281100|   599.34|\n",
            "|2012-03-21|602.74|609.65|601.41| 602.5|22958200|    602.5|\n",
            "|2012-03-20|599.51| 606.9|591.48|605.96|29166500|   605.96|\n",
            "|2012-03-19|598.37|601.77|589.05| 601.1|32187000|    601.1|\n",
            "+----------+------+------+------+------+--------+---------+\n",
            "only showing top 10 rows\n",
            "\n"
          ],
          "name": "stdout"
        }
      ]
    },
    {
      "cell_type": "code",
      "metadata": {
        "colab": {
          "base_uri": "https://localhost:8080/"
        },
        "id": "1rrdZKcGiLEn",
        "outputId": "f9ee09af-bf6d-4d19-a161-105e6721366e"
      },
      "source": [
        "# USANDO FILTER para os 20 primeiros registros com Close < 500\n",
        "df.filter(\"Close < 500\").show(20)"
      ],
      "execution_count": 14,
      "outputs": [
        {
          "output_type": "stream",
          "text": [
            "+----------+------+------+------+------+--------+---------+\n",
            "|      Date|  Open|  High|   Low| Close|  Volume|Adj Close|\n",
            "+----------+------+------+------+------+--------+---------+\n",
            "|2012-02-15|514.26|526.29|496.89|497.67|53706600|   497.67|\n",
            "|2012-02-10|490.96|497.62|488.55|493.42|22523900|   493.42|\n",
            "|2012-02-09|480.76|496.75|480.56|493.17|31527700|   493.17|\n",
            "|2012-02-08| 470.5|476.79| 469.7|476.68|14544700|   476.68|\n",
            "|2012-02-07|465.25|469.75|464.58|468.83|11280600|   468.83|\n",
            "|2012-02-06|458.38|464.98| 458.2|463.97| 8907600|   463.97|\n",
            "|2012-02-03| 457.3| 460.0|455.56|459.68|10235700|   459.68|\n",
            "|2012-02-02| 455.9|457.17|453.98|455.12| 6661100|   455.12|\n",
            "|2012-02-01|458.41|458.99|455.55|456.19| 9624500|   456.19|\n",
            "|2012-01-31|455.59|458.24|453.07|456.48|13988700|   456.48|\n",
            "|2012-01-30|445.71| 453.9|445.39|453.01|13531000|   453.01|\n",
            "|2012-01-27|444.34|448.48|443.77|447.28|10703900|   447.28|\n",
            "|2012-01-26|448.36|448.79|443.14|444.63|11570900|   444.63|\n",
            "|2012-01-25|454.44|454.45|443.73|446.66|34185200|   446.66|\n",
            "|2012-01-24| 425.1| 425.1|419.55|420.41|19226900|   420.41|\n",
            "|2012-01-23|422.67|428.45| 422.3|427.41|10915800|   427.41|\n",
            "|2012-01-20|427.49| 427.5|419.75| 420.3|14758300|    420.3|\n",
            "|2012-01-19|430.15|431.37|426.51|427.75| 9332700|   427.75|\n",
            "|2012-01-18|426.96|429.47| 426.3|429.11| 9872800|   429.11|\n",
            "|2012-01-17| 424.2|425.99|422.96| 424.7| 8658700|    424.7|\n",
            "+----------+------+------+------+------+--------+---------+\n",
            "only showing top 20 rows\n",
            "\n"
          ],
          "name": "stdout"
        }
      ]
    },
    {
      "cell_type": "code",
      "metadata": {
        "colab": {
          "base_uri": "https://localhost:8080/"
        },
        "id": "dG24tobaiLG_",
        "outputId": "3f8e7aec-de31-4313-b9d9-c163dbe46007"
      },
      "source": [
        "# USANDO FILTER COM SINTAXE SQL\n",
        "df.filter(\"Close < 500\").select(['Open', 'Close']).show()"
      ],
      "execution_count": 15,
      "outputs": [
        {
          "output_type": "stream",
          "text": [
            "+------+------+\n",
            "|  Open| Close|\n",
            "+------+------+\n",
            "|514.26|497.67|\n",
            "|490.96|493.42|\n",
            "|480.76|493.17|\n",
            "| 470.5|476.68|\n",
            "|465.25|468.83|\n",
            "|458.38|463.97|\n",
            "| 457.3|459.68|\n",
            "| 455.9|455.12|\n",
            "|458.41|456.19|\n",
            "|455.59|456.48|\n",
            "|445.71|453.01|\n",
            "|444.34|447.28|\n",
            "|448.36|444.63|\n",
            "|454.44|446.66|\n",
            "| 425.1|420.41|\n",
            "|422.67|427.41|\n",
            "|427.49| 420.3|\n",
            "|430.15|427.75|\n",
            "|426.96|429.11|\n",
            "| 424.2| 424.7|\n",
            "+------+------+\n",
            "only showing top 20 rows\n",
            "\n"
          ],
          "name": "stdout"
        }
      ]
    },
    {
      "cell_type": "code",
      "metadata": {
        "colab": {
          "base_uri": "https://localhost:8080/"
        },
        "id": "T78IB5uylOv2",
        "outputId": "439bc0b9-3267-448b-c6a2-38e1f0099798"
      },
      "source": [
        "# USANDO FILTRO COM MULTIPLAS CONDIÇÕES (and, or e not NAO FUNCIONAM)\n",
        "# DEVE-SE USAR &, | ou ~\n",
        "df.filter( (df['Close'] < 200) & (df['Open']>200) ).show()"
      ],
      "execution_count": 16,
      "outputs": [
        {
          "output_type": "stream",
          "text": [
            "+----------+------+------+------+------+--------+---------+\n",
            "|      Date|  Open|  High|   Low| Close|  Volume|Adj Close|\n",
            "+----------+------+------+------+------+--------+---------+\n",
            "|2010-01-29|201.08| 202.2|190.25|192.06|44498300|   192.06|\n",
            "|2010-01-28|204.93| 205.5| 198.7|199.29|41910800|   199.29|\n",
            "|2010-01-22|206.78| 207.5|197.16|197.75|31491700|   197.75|\n",
            "|2009-12-01|202.24|202.77|196.83|196.97|16634400|   196.97|\n",
            "|2009-11-30|201.11|201.68|198.77|199.91|15173500|   199.91|\n",
            "|2009-10-27|201.66|202.81|196.45|197.37|27019700|   197.37|\n",
            "|2009-10-20| 200.6|201.75|197.85|198.76|40751400|   198.76|\n",
            "|2007-12-28|200.59|201.56|196.88|199.83|24987400|   199.83|\n",
            "+----------+------+------+------+------+--------+---------+\n",
            "\n"
          ],
          "name": "stdout"
        }
      ]
    },
    {
      "cell_type": "code",
      "metadata": {
        "colab": {
          "base_uri": "https://localhost:8080/"
        },
        "id": "o_OzDTbXljeJ",
        "outputId": "9d33855a-5c29-4a4e-c7a3-3b54e7aef6ae"
      },
      "source": [
        "# OUTROS USOS\n",
        "df.filter(df['Low'] == 197.16).show()"
      ],
      "execution_count": 17,
      "outputs": [
        {
          "output_type": "stream",
          "text": [
            "+----------+------+-----+------+------+--------+---------+\n",
            "|      Date|  Open| High|   Low| Close|  Volume|Adj Close|\n",
            "+----------+------+-----+------+------+--------+---------+\n",
            "|2010-01-22|206.78|207.5|197.16|197.75|31491700|   197.75|\n",
            "+----------+------+-----+------+------+--------+---------+\n",
            "\n"
          ],
          "name": "stdout"
        }
      ]
    },
    {
      "cell_type": "code",
      "metadata": {
        "colab": {
          "base_uri": "https://localhost:8080/"
        },
        "id": "j-kotlr8ljjn",
        "outputId": "728aa6b9-e64a-4890-fec3-3dc20f49687a"
      },
      "source": [
        "# CRIANDO DICT DO RESULTADO\n",
        "df.filter(df['Low'] == 197.16).collect()"
      ],
      "execution_count": 18,
      "outputs": [
        {
          "output_type": "execute_result",
          "data": {
            "text/plain": [
              "[Row(Date='2010-01-22', Open=206.78, High=207.5, Low=197.16, Close=197.75, Volume=31491700, Adj Close=197.75)]"
            ]
          },
          "metadata": {
            "tags": []
          },
          "execution_count": 18
        }
      ]
    },
    {
      "cell_type": "code",
      "metadata": {
        "colab": {
          "base_uri": "https://localhost:8080/"
        },
        "id": "VjobiqAOljn6",
        "outputId": "bdce389c-c4d5-4dd2-f44c-da5cf76bdc6d"
      },
      "source": [
        "result_197 = df.filter(df['Low'] == 197.16).collect()\n",
        "result_197[0]"
      ],
      "execution_count": 20,
      "outputs": [
        {
          "output_type": "execute_result",
          "data": {
            "text/plain": [
              "Row(Date='2010-01-22', Open=206.78, High=207.5, Low=197.16, Close=197.75, Volume=31491700, Adj Close=197.75)"
            ]
          },
          "metadata": {
            "tags": []
          },
          "execution_count": 20
        }
      ]
    },
    {
      "cell_type": "code",
      "metadata": {
        "id": "fFcY6Znxljrv"
      },
      "source": [
        "row_197 = result_197[0]"
      ],
      "execution_count": 21,
      "outputs": []
    },
    {
      "cell_type": "code",
      "metadata": {
        "colab": {
          "base_uri": "https://localhost:8080/"
        },
        "id": "JpKwJrsFljuo",
        "outputId": "a06a9407-e318-4973-ebf5-5b0e835972ed"
      },
      "source": [
        "# É possivel filtrar, ex: row_197.asDict()['Volume']\n",
        "row_197.asDict()"
      ],
      "execution_count": 22,
      "outputs": [
        {
          "output_type": "execute_result",
          "data": {
            "text/plain": [
              "{'Adj Close': 197.75,\n",
              " 'Close': 197.75,\n",
              " 'Date': '2010-01-22',\n",
              " 'High': 207.5,\n",
              " 'Low': 197.16,\n",
              " 'Open': 206.78,\n",
              " 'Volume': 31491700}"
            ]
          },
          "metadata": {
            "tags": []
          },
          "execution_count": 22
        }
      ]
    },
    {
      "cell_type": "code",
      "metadata": {
        "id": "PweJxIRdljzA"
      },
      "source": [
        ""
      ],
      "execution_count": null,
      "outputs": []
    },
    {
      "cell_type": "code",
      "metadata": {
        "id": "OWJwFWJmlj1U"
      },
      "source": [
        ""
      ],
      "execution_count": null,
      "outputs": []
    },
    {
      "cell_type": "code",
      "metadata": {
        "id": "Sd6lFKaLiLJN"
      },
      "source": [
        ""
      ],
      "execution_count": null,
      "outputs": []
    }
  ]
}
